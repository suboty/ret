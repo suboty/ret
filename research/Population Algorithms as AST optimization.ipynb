{
 "cells": [
  {
   "cell_type": "code",
   "execution_count": 1,
   "id": "512e6d02",
   "metadata": {},
   "outputs": [
    {
     "name": "stdout",
     "output_type": "stream",
     "text": [
      "2024-07-21 21:43:35,632 | INFO]: Logger is init\n"
     ]
    }
   ],
   "source": [
    "import os\n",
    "\n",
    "os.chdir('..')\n",
    "from src.translator import Translator\n",
    "\n",
    "from src.metrics.accuracy import get_match_accuracy\n",
    "from src.metrics.performance import get_performance_metric\n",
    "from src.metrics.readability import get_readability\n",
    "\n",
    "from src.utils import *"
   ]
  },
  {
   "cell_type": "code",
   "execution_count": 2,
   "id": "dd6a5a27",
   "metadata": {},
   "outputs": [],
   "source": [
    "t = Translator()"
   ]
  },
  {
   "cell_type": "code",
   "execution_count": 3,
   "id": "5e898768",
   "metadata": {},
   "outputs": [],
   "source": [
    "regex = t.translate('abc(c|a)ddd', input_syntax='python', output_syntax='python')"
   ]
  },
  {
   "cell_type": "code",
   "execution_count": 4,
   "id": "dffa8991",
   "metadata": {},
   "outputs": [
    {
     "name": "stdout",
     "output_type": "stream",
     "text": [
      "accuracy = 0\n",
      "perfomace = 0.11 milliseconds\n",
      "readability = 1.5\n"
     ]
    }
   ],
   "source": [
    "print(f\"accuracy = {get_match_accuracy(regex=regex, syntax='python', phrase='abc')}\")\n",
    "print(f\"perfomace = {get_performance_metric(regex=regex, syntax='python', n_iter=500)} milliseconds\")\n",
    "print(f\"readability = {get_readability(ast=t.ast)}\")"
   ]
  },
  {
   "cell_type": "code",
   "execution_count": 8,
   "id": "07a40cee",
   "metadata": {},
   "outputs": [],
   "source": [
    "ast = get_ast('abc(c|a)ddd')"
   ]
  },
  {
   "cell_type": "code",
   "execution_count": 9,
   "id": "e22e0911",
   "metadata": {},
   "outputs": [
    {
     "data": {
      "text/plain": [
       "('seq',\n",
       " ('group',\n",
       "  (('atom', 'a'),\n",
       "   ('atom', 'b'),\n",
       "   ('atom', 'c'),\n",
       "   ('group',\n",
       "    (('alt', (('atom', 'c'),), (('atom', 'a'),)),\n",
       "     ('atom', 'd'),\n",
       "     ('atom', 'd'),\n",
       "     ('atom', 'd'))))))"
      ]
     },
     "execution_count": 9,
     "metadata": {},
     "output_type": "execute_result"
    }
   ],
   "source": [
    "ast"
   ]
  },
  {
   "cell_type": "code",
   "execution_count": 25,
   "id": "82915d2e",
   "metadata": {
    "scrolled": true
   },
   "outputs": [
    {
     "name": "stdout",
     "output_type": "stream",
     "text": [
      "Collecting markovify\n",
      "  Downloading markovify-0.9.4.tar.gz (27 kB)\n",
      "  Preparing metadata (setup.py) ... \u001b[?25ldone\n",
      "\u001b[?25hRequirement already satisfied: unidecode in /Users/nikitamoroskin/anaconda3/lib/python3.10/site-packages (from markovify) (1.2.0)\n",
      "Building wheels for collected packages: markovify\n",
      "  Building wheel for markovify (setup.py) ... \u001b[?25ldone\n",
      "\u001b[?25h  Created wheel for markovify: filename=markovify-0.9.4-py3-none-any.whl size=18627 sha256=5f7589e977c592a9073073b671ae3276905d47322d7e8e39ddd1a51ff5425f11\n",
      "  Stored in directory: /Users/nikitamoroskin/Library/Caches/pip/wheels/b9/b8/91/86c2bef2c68176c2ccabc9fb7337631711ef5ef53c64c66481\n",
      "Successfully built markovify\n",
      "Installing collected packages: markovify\n",
      "Successfully installed markovify-0.9.4\n",
      "Note: you may need to restart the kernel to use updated packages.\n"
     ]
    }
   ],
   "source": [
    "pip install markovify"
   ]
  },
  {
   "cell_type": "code",
   "execution_count": 27,
   "id": "420274fa",
   "metadata": {},
   "outputs": [
    {
     "data": {
      "text/plain": [
       "\"('seq', ('group', (('atom', 'a'), ('atom', 'b'), ('atom', 'c'), ('group', (('alt', (('atom', 'c'),), (('atom', 'a'),)), ('atom', 'd'), ('atom', 'd'), ('atom', 'd'))))))\""
      ]
     },
     "execution_count": 27,
     "metadata": {},
     "output_type": "execute_result"
    }
   ],
   "source": [
    "str(ast)"
   ]
  },
  {
   "cell_type": "code",
   "execution_count": 26,
   "id": "67092bbc",
   "metadata": {},
   "outputs": [
    {
     "ename": "KeyError",
     "evalue": "('___BEGIN__', '___BEGIN__')",
     "output_type": "error",
     "traceback": [
      "\u001b[0;31m---------------------------------------------------------------------------\u001b[0m",
      "\u001b[0;31mKeyError\u001b[0m                                  Traceback (most recent call last)",
      "Cell \u001b[0;32mIn[26], line 4\u001b[0m\n\u001b[1;32m      1\u001b[0m \u001b[38;5;28;01mimport\u001b[39;00m \u001b[38;5;21;01mmarkovify\u001b[39;00m\n\u001b[1;32m      3\u001b[0m \u001b[38;5;66;03m# Build the model.\u001b[39;00m\n\u001b[0;32m----> 4\u001b[0m text_model \u001b[38;5;241m=\u001b[39m \u001b[43mmarkovify\u001b[49m\u001b[38;5;241;43m.\u001b[39;49m\u001b[43mText\u001b[49m\u001b[43m(\u001b[49m\u001b[38;5;28;43mstr\u001b[39;49m\u001b[43m(\u001b[49m\u001b[43mast\u001b[49m\u001b[43m)\u001b[49m\u001b[43m)\u001b[49m\n\u001b[1;32m      6\u001b[0m \u001b[38;5;66;03m# Print five randomly-generated sentences\u001b[39;00m\n\u001b[1;32m      7\u001b[0m \u001b[38;5;28;01mfor\u001b[39;00m i \u001b[38;5;129;01min\u001b[39;00m \u001b[38;5;28mrange\u001b[39m(\u001b[38;5;241m5\u001b[39m):\n",
      "File \u001b[0;32m~/anaconda3/lib/python3.10/site-packages/markovify/text.py:65\u001b[0m, in \u001b[0;36mText.__init__\u001b[0;34m(self, input_text, state_size, chain, parsed_sentences, retain_original, well_formed, reject_reg)\u001b[0m\n\u001b[1;32m     61\u001b[0m     \u001b[38;5;66;03m# Rejoined text lets us assess the novelty of generated sentences\u001b[39;00m\n\u001b[1;32m     62\u001b[0m     \u001b[38;5;28mself\u001b[39m\u001b[38;5;241m.\u001b[39mrejoined_text \u001b[38;5;241m=\u001b[39m \u001b[38;5;28mself\u001b[39m\u001b[38;5;241m.\u001b[39msentence_join(\n\u001b[1;32m     63\u001b[0m         \u001b[38;5;28mmap\u001b[39m(\u001b[38;5;28mself\u001b[39m\u001b[38;5;241m.\u001b[39mword_join, \u001b[38;5;28mself\u001b[39m\u001b[38;5;241m.\u001b[39mparsed_sentences)\n\u001b[1;32m     64\u001b[0m     )\n\u001b[0;32m---> 65\u001b[0m     \u001b[38;5;28mself\u001b[39m\u001b[38;5;241m.\u001b[39mchain \u001b[38;5;241m=\u001b[39m chain \u001b[38;5;129;01mor\u001b[39;00m \u001b[43mChain\u001b[49m\u001b[43m(\u001b[49m\u001b[38;5;28;43mself\u001b[39;49m\u001b[38;5;241;43m.\u001b[39;49m\u001b[43mparsed_sentences\u001b[49m\u001b[43m,\u001b[49m\u001b[43m \u001b[49m\u001b[43mstate_size\u001b[49m\u001b[43m)\u001b[49m\n\u001b[1;32m     66\u001b[0m \u001b[38;5;28;01melse\u001b[39;00m:\n\u001b[1;32m     67\u001b[0m     \u001b[38;5;28;01mif\u001b[39;00m \u001b[38;5;129;01mnot\u001b[39;00m chain:\n",
      "File \u001b[0;32m~/anaconda3/lib/python3.10/site-packages/markovify/chain.py:53\u001b[0m, in \u001b[0;36mChain.__init__\u001b[0;34m(self, corpus, state_size, model)\u001b[0m\n\u001b[1;32m     49\u001b[0m \u001b[38;5;28mself\u001b[39m\u001b[38;5;241m.\u001b[39mcompiled \u001b[38;5;241m=\u001b[39m (\u001b[38;5;28mlen\u001b[39m(\u001b[38;5;28mself\u001b[39m\u001b[38;5;241m.\u001b[39mmodel) \u001b[38;5;241m>\u001b[39m \u001b[38;5;241m0\u001b[39m) \u001b[38;5;129;01mand\u001b[39;00m (\n\u001b[1;32m     50\u001b[0m     \u001b[38;5;28mtype\u001b[39m(\u001b[38;5;28mself\u001b[39m\u001b[38;5;241m.\u001b[39mmodel[\u001b[38;5;28mtuple\u001b[39m([BEGIN] \u001b[38;5;241m*\u001b[39m state_size)]) \u001b[38;5;241m==\u001b[39m \u001b[38;5;28mlist\u001b[39m\n\u001b[1;32m     51\u001b[0m )\n\u001b[1;32m     52\u001b[0m \u001b[38;5;28;01mif\u001b[39;00m \u001b[38;5;129;01mnot\u001b[39;00m \u001b[38;5;28mself\u001b[39m\u001b[38;5;241m.\u001b[39mcompiled:\n\u001b[0;32m---> 53\u001b[0m     \u001b[38;5;28;43mself\u001b[39;49m\u001b[38;5;241;43m.\u001b[39;49m\u001b[43mprecompute_begin_state\u001b[49m\u001b[43m(\u001b[49m\u001b[43m)\u001b[49m\n",
      "File \u001b[0;32m~/anaconda3/lib/python3.10/site-packages/markovify/chain.py:102\u001b[0m, in \u001b[0;36mChain.precompute_begin_state\u001b[0;34m(self)\u001b[0m\n\u001b[1;32m     97\u001b[0m \u001b[38;5;250m\u001b[39m\u001b[38;5;124;03m\"\"\"\u001b[39;00m\n\u001b[1;32m     98\u001b[0m \u001b[38;5;124;03mCaches the summation calculation and available choices for BEGIN * state_size.\u001b[39;00m\n\u001b[1;32m     99\u001b[0m \u001b[38;5;124;03mSignificantly speeds up chain generation on large corpora. Thanks, @schollz!\u001b[39;00m\n\u001b[1;32m    100\u001b[0m \u001b[38;5;124;03m\"\"\"\u001b[39;00m\n\u001b[1;32m    101\u001b[0m begin_state \u001b[38;5;241m=\u001b[39m \u001b[38;5;28mtuple\u001b[39m([BEGIN] \u001b[38;5;241m*\u001b[39m \u001b[38;5;28mself\u001b[39m\u001b[38;5;241m.\u001b[39mstate_size)\n\u001b[0;32m--> 102\u001b[0m choices, cumdist \u001b[38;5;241m=\u001b[39m compile_next(\u001b[38;5;28;43mself\u001b[39;49m\u001b[38;5;241;43m.\u001b[39;49m\u001b[43mmodel\u001b[49m\u001b[43m[\u001b[49m\u001b[43mbegin_state\u001b[49m\u001b[43m]\u001b[49m)\n\u001b[1;32m    103\u001b[0m \u001b[38;5;28mself\u001b[39m\u001b[38;5;241m.\u001b[39mbegin_cumdist \u001b[38;5;241m=\u001b[39m cumdist\n\u001b[1;32m    104\u001b[0m \u001b[38;5;28mself\u001b[39m\u001b[38;5;241m.\u001b[39mbegin_choices \u001b[38;5;241m=\u001b[39m choices\n",
      "\u001b[0;31mKeyError\u001b[0m: ('___BEGIN__', '___BEGIN__')"
     ]
    }
   ],
   "source": [
    "import markovify\n",
    "\n",
    "# Build the model.\n",
    "text_model = markovify.Text(str(ast))\n",
    "\n",
    "# Print five randomly-generated sentences\n",
    "for i in range(5):\n",
    "    print(text_model.make_sentence())\n",
    "\n",
    "# Print three randomly-generated sentences of no more than 280 characters\n",
    "for i in range(3):\n",
    "    print(text_model.make_short_sentence(280))"
   ]
  },
  {
   "cell_type": "code",
   "execution_count": 28,
   "id": "abc12733",
   "metadata": {},
   "outputs": [
    {
     "data": {
      "text/plain": [
       "('seq',\n",
       " ('group',\n",
       "  (('start_group',),\n",
       "   ('atom', 'a'),\n",
       "   ('atom', 'b'),\n",
       "   ('atom', 'c'),\n",
       "   ('group',\n",
       "    (('start_group',),\n",
       "     ('alt', (('atom', 'a'),), (('atom', 'd'),)),\n",
       "     ('group',\n",
       "      (('start_group',), ('alt', (('atom', 'e'),), (('atom', 'a'),)))))))))"
      ]
     },
     "execution_count": 28,
     "metadata": {},
     "output_type": "execute_result"
    }
   ],
   "source": [
    "('seq', ('group', (('start_group',), ('atom', 'a'), ('atom', 'b'), ('atom', 'c'), ('group', (('start_group',), ('alt', (('atom', 'a'),), (('atom', 'd'),)), ('group', (('start_group',), ('alt', (('atom', 'e'),), (('atom', 'a'),)))))))))"
   ]
  },
  {
   "cell_type": "code",
   "execution_count": 29,
   "id": "5d47b512",
   "metadata": {},
   "outputs": [
    {
     "data": {
      "text/plain": [
       "('seq',\n",
       " ('alt',\n",
       "  (('atom', 'a'), ('repeat', ('atom', 'b'), 0, 1), ('atom', 'c'), ('any',)),\n",
       "  (('atom', 'd'),)))"
      ]
     },
     "execution_count": 29,
     "metadata": {},
     "output_type": "execute_result"
    }
   ],
   "source": [
    "('seq',('alt',(('atom','a'),('repeat',('atom','b'),0,1),('atom','c'),('any',)),(('atom','d'),)))"
   ]
  },
  {
   "cell_type": "code",
   "execution_count": null,
   "id": "0b34eb82",
   "metadata": {},
   "outputs": [],
   "source": []
  }
 ],
 "metadata": {
  "kernelspec": {
   "display_name": "Python 3 (ipykernel)",
   "language": "python",
   "name": "python3"
  },
  "language_info": {
   "codemirror_mode": {
    "name": "ipython",
    "version": 3
   },
   "file_extension": ".py",
   "mimetype": "text/x-python",
   "name": "python",
   "nbconvert_exporter": "python",
   "pygments_lexer": "ipython3",
   "version": "3.10.9"
  }
 },
 "nbformat": 4,
 "nbformat_minor": 5
}
