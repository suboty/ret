{
 "cells": [
  {
   "cell_type": "markdown",
   "id": "b32db208",
   "metadata": {},
   "source": [
    "# Competitive coevolution with GEP"
   ]
  },
  {
   "cell_type": "code",
   "execution_count": null,
   "id": "fcdd89d0",
   "metadata": {},
   "outputs": [],
   "source": [
    "experiment_name = 'only_gep'"
   ]
  },
  {
   "cell_type": "code",
   "execution_count": null,
   "id": "6518a1e4",
   "metadata": {},
   "outputs": [],
   "source": [
    "import random\n",
    "random.seed(456)"
   ]
  },
  {
   "cell_type": "markdown",
   "id": "5884db4a",
   "metadata": {},
   "source": [
    "## Regex for test"
   ]
  },
  {
   "cell_type": "code",
   "execution_count": null,
   "id": "c7c828ef",
   "metadata": {},
   "outputs": [],
   "source": [
    "input_regex = '((a|bb?)|(a|ba?)|([0-9]|.ab))'\n",
    "\n",
    "params = {\n",
    "    'range': ['0-9'],\n",
    "    'repeat': ['0,1'],\n",
    "}\n",
    "    \n",
    "nodes = {\n",
    "    # functions (except any)\n",
    "    -1: 'params', \n",
    "    0: 'seq', \n",
    "    1: 'atom', \n",
    "    2: 'any', \n",
    "    3: 'repeat', \n",
    "    4: 'alt', \n",
    "    5: 'altgroup', \n",
    "    6: 'group', \n",
    "    7: 'range', \n",
    "    8: 'escape', \n",
    "\n",
    "    # terminals (get by input regex)\n",
    "    9: 'a', \n",
    "    10: 'b',\n",
    "}"
   ]
  },
  {
   "cell_type": "code",
   "execution_count": null,
   "id": "b01d2bf4",
   "metadata": {},
   "outputs": [],
   "source": [
    "from coevolutionary.utils import Utils\n",
    "from coevolutionary.utils import regex_process\n",
    "\n",
    "test_strings = Utils.get_test_strings(\n",
    "    input_regex=input_regex,\n",
    "    n_fuzzy_strings=5\n",
    ")\n",
    "\n",
    "X, Y = Utils.create_training_set(\n",
    "    test_strings=test_strings,\n",
    "    original_regex=input_regex,\n",
    "    process_func=regex_process,\n",
    ")  "
   ]
  },
  {
   "cell_type": "markdown",
   "id": "7cda581a",
   "metadata": {},
   "source": [
    "## Run"
   ]
  },
  {
   "cell_type": "code",
   "execution_count": null,
   "id": "7cf17670",
   "metadata": {},
   "outputs": [],
   "source": [
    "from coevolutionary.manager import CompetitiveManager\n",
    "from coevolutionary.algorithms.gep import GEPAlgorithm\n",
    "from coevolutionary.utils.terminals import get_terminals"
   ]
  },
  {
   "cell_type": "code",
   "execution_count": null,
   "id": "d4ed4602",
   "metadata": {},
   "outputs": [],
   "source": [
    "cm = CompetitiveManager(\n",
    "    adaptive_interval=5,\n",
    "    shared_resource=5_000,\n",
    "    verbose=False,\n",
    "    problem='min',\n",
    "    survive_schema='best',\n",
    "    social_card=0.3,\n",
    "    penalty=0.10,\n",
    "    experiment_name=experiment_name,\n",
    ")"
   ]
  },
  {
   "cell_type": "code",
   "execution_count": null,
   "id": "1f5bdc84",
   "metadata": {},
   "outputs": [],
   "source": [
    "params_cases = [\n",
    "    {'population_length': 100, 'genes_n': 4, 'head_n': 2, 'n_elites': 3},\n",
    "    {'population_length': 100, 'genes_n': 3, 'head_n': 3, 'n_elites': 10},\n",
    "    {'population_length': 100, 'genes_n': 4, 'head_n': 2, 'n_elites': 10},\n",
    "    {'population_length': 100, 'genes_n': 5, 'head_n': 3, 'n_elites': 3},\n",
    "]"
   ]
  },
  {
   "cell_type": "markdown",
   "id": "918661fa",
   "metadata": {},
   "source": [
    "### Run algorithms in coevolution"
   ]
  },
  {
   "cell_type": "code",
   "execution_count": null,
   "id": "7601aa4c",
   "metadata": {},
   "outputs": [],
   "source": [
    "terminals = get_terminals(\n",
    "    add_digits=False,\n",
    "    add_lower_latin_letters=False,\n",
    "    add_custom_symbols=True,\n",
    "    custom_symbols=['a', 'b', 'any', 'range', 'escape']\n",
    ")\n",
    "\n",
    "for i, case in enumerate(params_cases):\n",
    "    gep_object = GEPAlgorithm(\n",
    "        X=X,\n",
    "        Y=Y,\n",
    "        n_iter=100,\n",
    "        terminals=terminals,\n",
    "        params=params,\n",
    "    )\n",
    "    \n",
    "    cm.add_algorithm(\n",
    "        name=f'gep_{i}_coev',\n",
    "        init_params=case,\n",
    "        init_algorithm=gep_object.init_algorithm,\n",
    "        init_population=gep_object.init_population,\n",
    "        get_fitness_population=gep_object.get_fitness_population,\n",
    "        select_population=gep_object.select_population,\n",
    "        recombine_population=gep_object.recombine_population,\n",
    "        mutate_population=gep_object.mutate_population,\n",
    "    )"
   ]
  },
  {
   "cell_type": "code",
   "execution_count": null,
   "id": "0b558507",
   "metadata": {},
   "outputs": [],
   "source": [
    "cm.run_coevolution()"
   ]
  },
  {
   "cell_type": "code",
   "execution_count": null,
   "id": "4bf4d1e7",
   "metadata": {},
   "outputs": [],
   "source": [
    "coevolution_algorithm_history = cm.algorithm_history\n",
    "population_qualities_history = cm.population_qualities_history\n",
    "coev_names = cm.get_algorithm_names()\n",
    "best_alg_statistics = cm.get_winner_statistics()"
   ]
  },
  {
   "cell_type": "code",
   "execution_count": null,
   "id": "16ccbd94",
   "metadata": {
    "scrolled": false
   },
   "outputs": [],
   "source": [
    "from coevolutionary.utils.visualization import visualize\n",
    "\n",
    "visualize(\n",
    "    algorithm_history=coevolution_algorithm_history,\n",
    "    algorithm_names=coev_names\n",
    ")"
   ]
  },
  {
   "cell_type": "code",
   "execution_count": null,
   "id": "1c01f196",
   "metadata": {
    "scrolled": false
   },
   "outputs": [],
   "source": [
    "import matplotlib.pyplot as plt\n",
    "from coevolutionary.utils.visualization import visualize_algorithms_quality\n",
    "\n",
    "plt.rcParams[\"figure.figsize\"] = (10, 3)\n",
    "visualize_algorithms_quality(\n",
    "    population_qualities_history=population_qualities_history,\n",
    "    algorithm_names=coev_names\n",
    ")"
   ]
  },
  {
   "cell_type": "code",
   "execution_count": null,
   "id": "53508aa9",
   "metadata": {},
   "outputs": [],
   "source": [
    "print('Best individual:', cm.get_best_individual())"
   ]
  },
  {
   "cell_type": "markdown",
   "id": "23c632dd",
   "metadata": {},
   "source": [
    "### Run algorithms separately"
   ]
  },
  {
   "cell_type": "code",
   "execution_count": null,
   "id": "938911e9",
   "metadata": {},
   "outputs": [],
   "source": [
    "separately_algorithm_history = {}\n",
    "sep_names = []"
   ]
  },
  {
   "cell_type": "code",
   "execution_count": null,
   "id": "67753dcb",
   "metadata": {},
   "outputs": [],
   "source": [
    "from coevolutionary.utils.tests import check_wilcoxon\n",
    "\n",
    "for i, case in enumerate(params_cases):\n",
    "    cm = CompetitiveManager(\n",
    "        adaptive_interval=2,\n",
    "        shared_resource=5_000,\n",
    "        verbose=False,\n",
    "        problem='min',\n",
    "        survive_schema='best',\n",
    "        social_card=0.3,\n",
    "        penalty=0.10,\n",
    "        experiment_name=experiment_name,\n",
    "    )\n",
    "    \n",
    "    gep_object = GEPAlgorithm(\n",
    "        X=X,\n",
    "        Y=Y,\n",
    "        n_iter=100,\n",
    "        terminals=terminals,\n",
    "        params=params,\n",
    "    )\n",
    "    \n",
    "    cm.add_algorithm(\n",
    "        name=f'gep_{i}_sep',\n",
    "        init_params=case,\n",
    "        init_algorithm=gep_object.init_algorithm,\n",
    "        init_population=gep_object.init_population,\n",
    "        get_fitness_population=gep_object.get_fitness_population,\n",
    "        select_population=gep_object.select_population,\n",
    "        recombine_population=gep_object.recombine_population,\n",
    "        mutate_population=gep_object.mutate_population,\n",
    "    )\n",
    "    \n",
    "    # overload run\n",
    "    cm.run_coevolution()\n",
    "    \n",
    "    separately_algorithm_history[i] = cm.algorithm_history[0]\n",
    "    sep_names.append(f'gep_{i}_sep')\n",
    "    \n",
    "    print('\\nBest individual: ', cm.get_best_individual())\n",
    "    \n",
    "    check_wilcoxon(\n",
    "        history_a=cm.algorithm_history,\n",
    "        history_b=best_alg_statistics,\n",
    "        a_name=f'gep_{i}_sep',\n",
    "        b_name=f'best of coevolutionary gep',\n",
    "        a_index=0,\n",
    "        b_index=i,\n",
    "        metric_number=1,\n",
    "        metric_name='minimum'\n",
    "    )"
   ]
  },
  {
   "cell_type": "code",
   "execution_count": null,
   "id": "875a1dfc",
   "metadata": {},
   "outputs": [],
   "source": [
    "from coevolutionary.utils.visualization import visualize\n",
    "\n",
    "plt.rcParams[\"figure.figsize\"] = (15, 10)\n",
    "visualize(\n",
    "    algorithm_history=separately_algorithm_history,\n",
    "    algorithm_names=sep_names\n",
    ")"
   ]
  }
 ],
 "metadata": {
  "kernelspec": {
   "display_name": "Python 3 (ipykernel)",
   "language": "python",
   "name": "python3"
  },
  "language_info": {
   "codemirror_mode": {
    "name": "ipython",
    "version": 3
   },
   "file_extension": ".py",
   "mimetype": "text/x-python",
   "name": "python",
   "nbconvert_exporter": "python",
   "pygments_lexer": "ipython3",
   "version": "3.10.9"
  }
 },
 "nbformat": 4,
 "nbformat_minor": 5
}
