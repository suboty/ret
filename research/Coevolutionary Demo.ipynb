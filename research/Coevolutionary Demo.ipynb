{
 "cells": [
  {
   "cell_type": "markdown",
   "id": "f99c35af",
   "metadata": {},
   "source": [
    "## Regex for test"
   ]
  },
  {
   "cell_type": "markdown",
   "id": "c23f8880",
   "metadata": {},
   "source": [
    "### ab?c.|[0-9]\\\\["
   ]
  },
  {
   "cell_type": "code",
   "execution_count": 1,
   "id": "f3e75492",
   "metadata": {},
   "outputs": [],
   "source": [
    "input_regex = 'ab?c.|[0-9]\\['\n",
    "\n",
    "params = {\n",
    "    'range': ['0-9'],\n",
    "    'repeat': ['0,1']\n",
    "}\n",
    "    \n",
    "nodes = {\n",
    "    # functions (except any)\n",
    "    -1: 'params', \n",
    "    0: 'seq', \n",
    "    1: 'atom', \n",
    "    2: 'any', \n",
    "    3: 'repeat', \n",
    "    4: 'alt', \n",
    "    5: 'altgroup', \n",
    "    6: 'group', \n",
    "    7: 'range', \n",
    "    8: 'escape', \n",
    "\n",
    "    # terminals (get by input regex)\n",
    "    9: 'a', \n",
    "    10: 'b', \n",
    "    11: 'c', \n",
    "    12: '['\n",
    "}\n",
    "\n",
    "incidence_list = [\n",
    "    (0, 4), (4, 5), (5, 1), (1, 9), (5, 3), \n",
    "    (3, 1), (1, 10), (5, 1), (1, 11), (5, 2), \n",
    "    (4, 5), (5, 7), (5, 8), (8, 12)\n",
    "]"
   ]
  },
  {
   "cell_type": "markdown",
   "id": "a4460fd1",
   "metadata": {},
   "source": [
    "### Prepare test strings"
   ]
  },
  {
   "cell_type": "code",
   "execution_count": 2,
   "id": "b2588750",
   "metadata": {},
   "outputs": [],
   "source": [
    "from coevolutionary.utils import Utils\n",
    "from coevolutionary.utils import regex_process\n",
    "\n",
    "test_strings = Utils.get_test_strings(\n",
    "    input_regex=input_regex,\n",
    "    n_fuzzy_strings=5\n",
    ")\n",
    "\n",
    "X, Y = Utils.create_training_set(\n",
    "    test_strings=test_strings,\n",
    "    original_regex=input_regex,\n",
    "    process_func=regex_process,\n",
    ")  "
   ]
  },
  {
   "cell_type": "markdown",
   "id": "f87176b9",
   "metadata": {},
   "source": [
    "## Competitive coevolution"
   ]
  },
  {
   "cell_type": "code",
   "execution_count": 3,
   "id": "7cf17670",
   "metadata": {},
   "outputs": [],
   "source": [
    "from coevolutionary.manager import CompetitiveManager\n",
    "from coevolutionary.algorithms.de import DEAlgorithm"
   ]
  },
  {
   "cell_type": "code",
   "execution_count": 4,
   "id": "9b50966c",
   "metadata": {},
   "outputs": [],
   "source": [
    "cm = CompetitiveManager(\n",
    "    adaptive_interval=5,\n",
    "    shared_resource=50000,\n",
    "    verbose=False,\n",
    "    problem='min',\n",
    "    survive_schema='best',\n",
    "    social_card=0.3,\n",
    "    penalty=0.05,\n",
    "    seed=3956,\n",
    ")"
   ]
  },
  {
   "cell_type": "markdown",
   "id": "42242647",
   "metadata": {},
   "source": [
    "### only DE coevolutionary"
   ]
  },
  {
   "cell_type": "code",
   "execution_count": 5,
   "id": "190a38aa",
   "metadata": {},
   "outputs": [],
   "source": [
    "params_cases = [\n",
    "    {'ndim': 15 * 2, 'bounds': [0, 12], 'cr': 0.25, 'f': 0.25, 'mu': 300},\n",
    "    {'ndim': 10 * 2, 'bounds': [0, 12], 'cr': 0.25, 'f': 0.25, 'mu': 300},\n",
    "    {'ndim': 5 * 2, 'bounds': [0, 12], 'cr': 0.25, 'f': 0.25, 'mu': 300},\n",
    "    {'ndim': 15 * 2, 'bounds': [0, 12], 'cr': 0.25, 'f': 0.3, 'mu': 300},\n",
    "    {'ndim': 10 * 2, 'bounds': [0, 12], 'cr': 0.25, 'f': 0.3, 'mu': 300},\n",
    "    {'ndim': 5 * 2, 'bounds': [0, 12], 'cr': 0.25, 'f': 0.3, 'mu': 300}\n",
    "]\n",
    "\n",
    "for i, case in enumerate(params_cases):\n",
    "    de_object = DEAlgorithm(\n",
    "        incidence_list=incidence_list,\n",
    "        nodes=nodes,\n",
    "        params=params,\n",
    "        X=X,\n",
    "        Y=Y,\n",
    "        n_iter=100\n",
    "    )\n",
    "    \n",
    "    cm.add_algorithm(\n",
    "        name=f'de_{i}',\n",
    "        init_params=case,\n",
    "        init_algorithm=de_object.init_algorithm,\n",
    "        init_population=de_object.init_population,\n",
    "        get_fitness_population=de_object.get_fitness_population,\n",
    "        select_population=de_object.select_population,\n",
    "        recombine_population=de_object.recombine_population,\n",
    "        mutate_population=de_object.mutate_population,\n",
    "    )"
   ]
  },
  {
   "cell_type": "code",
   "execution_count": null,
   "id": "f7f2d7e4",
   "metadata": {},
   "outputs": [],
   "source": [
    "cm.run_coevolution()"
   ]
  },
  {
   "cell_type": "code",
   "execution_count": null,
   "id": "e1cc1103",
   "metadata": {
    "scrolled": true
   },
   "outputs": [],
   "source": [
    "from coevolutionary.utils.visualization import visualize\n",
    "visualize(\n",
    "    algorithm_history=cm.algorithm_history,\n",
    "    algorithm_names=cm.get_algorithm_names()\n",
    ")"
   ]
  },
  {
   "cell_type": "code",
   "execution_count": null,
   "id": "199b5e55",
   "metadata": {},
   "outputs": [],
   "source": [
    "from coevolutionary.utils.visualization import visualize_algorithms_quality\n",
    "visualize_algorithms_quality(\n",
    "    population_qualities_history=cm.population_qualities_history,\n",
    "    algorithm_names=cm.get_algorithm_names()\n",
    ")"
   ]
  }
 ],
 "metadata": {
  "kernelspec": {
   "display_name": "Python 3 (ipykernel)",
   "language": "python",
   "name": "python3"
  },
  "language_info": {
   "codemirror_mode": {
    "name": "ipython",
    "version": 3
   },
   "file_extension": ".py",
   "mimetype": "text/x-python",
   "name": "python",
   "nbconvert_exporter": "python",
   "pygments_lexer": "ipython3",
   "version": "3.10.9"
  }
 },
 "nbformat": 4,
 "nbformat_minor": 5
}
