{
 "cells": [
  {
   "cell_type": "markdown",
   "id": "251bb0cf",
   "metadata": {},
   "source": [
    "## Regex for test"
   ]
  },
  {
   "cell_type": "markdown",
   "id": "5858764e",
   "metadata": {},
   "source": [
    "### ab?c.|[0-9]\\\\["
   ]
  },
  {
   "cell_type": "code",
   "execution_count": 1,
   "id": "a0d49efb",
   "metadata": {},
   "outputs": [],
   "source": [
    "input_regex = 'ab?c.|[0-9]\\['\n",
    "\n",
    "params = {\n",
    "    'range': ['0-9'],\n",
    "    'repeat': ['0,1']\n",
    "}\n",
    "    \n",
    "nodes = {\n",
    "    # functions (except any)\n",
    "    -1: 'params', \n",
    "    0: 'seq', \n",
    "    1: 'atom', \n",
    "    2: 'any', \n",
    "    3: 'repeat', \n",
    "    4: 'alt', \n",
    "    5: 'altgroup', \n",
    "    6: 'group', \n",
    "    7: 'range', \n",
    "    8: 'escape', \n",
    "\n",
    "    # terminals (get by input regex)\n",
    "    9: 'a', \n",
    "    10: 'b', \n",
    "    11: 'c', \n",
    "    12: '['\n",
    "}\n",
    "\n",
    "incidence_list = [\n",
    "    (0, 4), (4, 5), (5, 1), (1, 9), (5, 3), \n",
    "    (3, 1), (1, 10), (5, 1), (1, 11), (5, 2), \n",
    "    (4, 5), (5, 7), (5, 8), (8, 12)\n",
    "]"
   ]
  },
  {
   "cell_type": "markdown",
   "id": "afae07b0",
   "metadata": {},
   "source": [
    "### Prepare test strings"
   ]
  },
  {
   "cell_type": "code",
   "execution_count": 2,
   "id": "4c085cf9",
   "metadata": {},
   "outputs": [],
   "source": [
    "from coevolutionary.utils import Utils\n",
    "from coevolutionary.utils import regex_process\n",
    "\n",
    "test_strings = Utils.get_test_strings(\n",
    "    input_regex=input_regex,\n",
    "    n_fuzzy_strings=5\n",
    ")\n",
    "\n",
    "X, Y = Utils.create_training_set(\n",
    "    test_strings=test_strings,\n",
    "    original_regex=input_regex,\n",
    "    process_func=regex_process,\n",
    ")  "
   ]
  },
  {
   "cell_type": "markdown",
   "id": "0e0a1cec",
   "metadata": {},
   "source": [
    "## Competitive coevolution"
   ]
  },
  {
   "cell_type": "code",
   "execution_count": 3,
   "id": "7cf17670",
   "metadata": {},
   "outputs": [],
   "source": [
    "from coevolutionary.manager import CompetitiveManager\n",
    "from coevolutionary.algorithms.de import DEAlgorithm"
   ]
  },
  {
   "cell_type": "code",
   "execution_count": 4,
   "id": "48cfc0ac",
   "metadata": {},
   "outputs": [],
   "source": [
    "cm = CompetitiveManager(\n",
    "    adaptive_interval=5,\n",
    "    shared_resource=5000,\n",
    "    verbose=True,\n",
    "    problem='min',\n",
    "    survive_schema='best',\n",
    ")"
   ]
  },
  {
   "cell_type": "code",
   "execution_count": 5,
   "id": "766d073a",
   "metadata": {},
   "outputs": [],
   "source": [
    "de = DEAlgorithm(\n",
    "    incidence_list=incidence_list,\n",
    "    nodes=nodes,\n",
    "    params=params,\n",
    "    X=X,\n",
    "    Y=Y,\n",
    "    n_iter=500\n",
    ")\n",
    "\n",
    "# de 1\n",
    "cm.add_algorithm(\n",
    "    name='de1',\n",
    "    init_params={\n",
    "        'ndim': 15 * 2,\n",
    "        'bounds': [0, 11],\n",
    "        'cr': 0.4,\n",
    "        'f': 0.2,\n",
    "        'mu': 300\n",
    "    },\n",
    "    init_algorithm=de.init_algorithm,\n",
    "    init_population=de.init_population,\n",
    "    get_fitness_population=de.get_fitness_population,\n",
    "    select_population=de.select_population,\n",
    "    recombine_population=de.recombine_population,\n",
    "    mutate_population=de.mutate_population,\n",
    ")\n",
    "\n",
    "# de 2\n",
    "cm.add_algorithm(\n",
    "    name='de2',\n",
    "    init_params={\n",
    "        'ndim': 15 * 2,\n",
    "        'bounds': [0, 11],\n",
    "        'cr': 0.1,\n",
    "        'f': 0.4,\n",
    "        'mu': 300\n",
    "    },\n",
    "    init_algorithm=de.init_algorithm,\n",
    "    init_population=de.init_population,\n",
    "    get_fitness_population=de.get_fitness_population,\n",
    "    select_population=de.select_population,\n",
    "    recombine_population=de.recombine_population,\n",
    "    mutate_population=de.mutate_population,\n",
    ")"
   ]
  },
  {
   "cell_type": "code",
   "execution_count": 6,
   "id": "069445f9",
   "metadata": {},
   "outputs": [
    {
     "name": "stdout",
     "output_type": "stream",
     "text": [
      "############################ 1 - init\n",
      "Algorithm <de1> get statistics: \n",
      "\tlen: 300\tmin: 0.000276\tmax: 1.0\tmean: 0.960098\tstdev: 0.195808\tmedian: 1.0\tcv: 0.204\n",
      "Algorithm <de2> get statistics: \n",
      "\tlen: 300\tmin: 0.000286\tmax: 1.0\tmean: 0.966719\tstdev: 0.179523\tmedian: 1.0\tcv: 0.186\n",
      "###################### 2 - adaptation\n",
      "Algorithm <de1> get statistics: \n",
      "\tlen: 300\tmin: 0.000287\tmax: 1.0\tmean: 0.966718\tstdev: 0.179531\tmedian: 1.0\tcv: 0.186\n",
      "Algorithm <de2> get statistics: \n",
      "\tlen: 300\tmin: 0.000286\tmax: 1.0\tmean: 0.966717\tstdev: 0.179532\tmedian: 1.0\tcv: 0.186\n",
      "Winner: <de2>, score: <0.000286>\n",
      "###################### 3 - adaptation\n",
      "Algorithm <de1> get statistics: \n",
      "\tlen: 300\tmin: 0.000286\tmax: 1.0\tmean: 0.966717\tstdev: 0.179532\tmedian: 1.0\tcv: 0.186\n",
      "Algorithm <de2> get statistics: \n",
      "\tlen: 300\tmin: 0.000287\tmax: 1.0\tmean: 0.966718\tstdev: 0.179531\tmedian: 1.0\tcv: 0.186\n",
      "Winner: <de1>, score: <0.000286>\n",
      "###################### 4 - adaptation\n",
      "Algorithm <de1> get statistics: \n",
      "\tlen: 300\tmin: 0.000286\tmax: 1.0\tmean: 0.966717\tstdev: 0.179532\tmedian: 1.0\tcv: 0.186\n",
      "Algorithm <de2> get statistics: \n",
      "\tlen: 300\tmin: 0.000287\tmax: 1.0\tmean: 0.966718\tstdev: 0.179531\tmedian: 1.0\tcv: 0.186\n",
      "Winner: <de1>, score: <0.000286>\n",
      "###################### 5 - adaptation\n",
      "Algorithm <de1> get statistics: \n",
      "\tlen: 300\tmin: 0.000286\tmax: 1.0\tmean: 0.966717\tstdev: 0.179531\tmedian: 1.0\tcv: 0.186\n",
      "Algorithm <de2> get statistics: \n",
      "\tlen: 300\tmin: 0.000286\tmax: 1.0\tmean: 0.966718\tstdev: 0.179531\tmedian: 1.0\tcv: 0.186\n",
      "Winner: <de1>, score: <0.000286>\n",
      "##################### 6 - coevolution\n",
      "Algorithm <de1> get statistics: \n",
      "\tlen: 300\tmin: 0.000287\tmax: 1.0\tmean: 0.966718\tstdev: 0.179528\tmedian: 1.0\tcv: 0.186\n",
      "Algorithm <de2> get statistics: \n",
      "\tlen: 300\tmin: 0.000287\tmax: 1.0\tmean: 0.966718\tstdev: 0.17953\tmedian: 1.0\tcv: 0.186\n",
      "Winner: <de1>, score: <0.000287>\n",
      "##################### 7 - coevolution\n",
      "Algorithm <de1> get statistics: \n",
      "\tlen: 285\tmin: 0.00029\tmax: 1.0\tmean: 0.97196\tstdev: 0.165284\tmedian: 1.0\tcv: 0.17\n",
      "Algorithm <de2> get statistics: \n",
      "\tlen: 285\tmin: 0.000286\tmax: 1.0\tmean: 0.97196\tstdev: 0.165285\tmedian: 1.0\tcv: 0.17\n",
      "Winner: <de2>, score: <0.000286>\n",
      "##################### 8 - coevolution\n",
      "Algorithm <de1> get statistics: \n",
      "\tlen: 285\tmin: 0.000291\tmax: 1.0\tmean: 0.97196\tstdev: 0.165284\tmedian: 1.0\tcv: 0.17\n",
      "Algorithm <de2> get statistics: \n",
      "\tlen: 285\tmin: 0.000287\tmax: 1.0\tmean: 0.97196\tstdev: 0.165284\tmedian: 1.0\tcv: 0.17\n",
      "Winner: <de2>, score: <0.000287>\n",
      "##################### 9 - coevolution\n",
      "Algorithm <de1> get statistics: \n",
      "\tlen: 285\tmin: 0.00029\tmax: 1.0\tmean: 0.97196\tstdev: 0.165284\tmedian: 1.0\tcv: 0.17\n",
      "Algorithm <de2> get statistics: \n",
      "\tlen: 285\tmin: 0.000287\tmax: 1.0\tmean: 0.97196\tstdev: 0.165284\tmedian: 1.0\tcv: 0.17\n",
      "Winner: <de2>, score: <0.000287>\n"
     ]
    }
   ],
   "source": [
    "cm.run_coevolution()"
   ]
  },
  {
   "cell_type": "code",
   "execution_count": null,
   "id": "3dc8e5b1",
   "metadata": {},
   "outputs": [],
   "source": []
  }
 ],
 "metadata": {
  "kernelspec": {
   "display_name": "Python 3 (ipykernel)",
   "language": "python",
   "name": "python3"
  },
  "language_info": {
   "codemirror_mode": {
    "name": "ipython",
    "version": 3
   },
   "file_extension": ".py",
   "mimetype": "text/x-python",
   "name": "python",
   "nbconvert_exporter": "python",
   "pygments_lexer": "ipython3",
   "version": "3.10.9"
  }
 },
 "nbformat": 4,
 "nbformat_minor": 5
}
