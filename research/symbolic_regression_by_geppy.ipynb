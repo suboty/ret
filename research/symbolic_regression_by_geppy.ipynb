{
 "cells": [
  {
   "cell_type": "markdown",
   "metadata": {},
   "source": [
    "# Symbolic regression on regular expressions\n",
    "\n",
    "by **G**ene **E**xpression **P**rogramming (GEP)\n",
    "\n",
    "Matherials from [geppy documentation](https://geppy.readthedocs.io/en/latest/intro_GEP.html)\n",
    "\n",
    "## Useful theory\n",
    "\n",
    "### Symbolic regression\n",
    "```\n",
    "Symbolic regression is a type of regression analysis that searches the space of mathematical expressions to find the model that best fits a given dataset, both in terms of accuracy and simplicity.\n",
    "```\n",
    "\n",
    "### Gene expression programming (GEP)\n",
    "```\n",
    "Gene expression programming (GEP) belongs to the family of evolutionary algorithms and is closely related to genetic algorithms and genetic programming (GP). Like GP, GEP is a special field of evolutionary computation that aims at building programs automatically to solve problems independently of their domain, i.e., the search space of GEP consists of computer problems and mathematical models.\n",
    "```\n",
    "\n",
    "### Functions and terminals\n",
    "\n",
    "```\n",
    "Just following the terminology of GP, there are two kinds of primitives in GEP: function and terminal. A function is a primitive that can accepts one or more arguments and returns a result after evaluation, while a terminal represents a constant or a variable in a given program.\n",
    "```"
   ]
  },
  {
   "cell_type": "markdown",
   "metadata": {},
   "source": [
    "## Intro to GEP\n",
    "For example:\n",
    "\n",
    "Functions alphabet: [max, +, *]\n",
    "\n",
    "Terminals alphabet: (x, y, 3, 4)\n",
    "\n",
    "- gene <max,+,+,*,x,x,x,y,3,4,y>\n",
    "- gene = head <max,+,+,*> + tail <x,x,x,y,3,4,y>\n",
    "\n",
    "**Genotype**: \n",
    "\n",
    "max++*xxxy34y\n",
    "\n",
    "**Phenotype** (Expression Tree):\n",
    "```\n",
    "[max]\n",
    "    [+]\n",
    "        (x)\n",
    "        (x)\n",
    "    [+]\n",
    "        (x)\n",
    "    [*]\n",
    "        (y)\n",
    "        (3)\n",
    "```\n",
    "\n",
    "**ORF (K-expression)**\n",
    "\n",
    "[max, +, +, *, x, x, x, y, 3]\n",
    "\n",
    "```\n",
    "It is easy to notice that the last two elements in the gene don’t appear in the expression tree. Although in GEP the start site is always the first position of a gene, the termination point does not always coincide with the last position of a gene. It is common for GEP genes to have non-coding regions downstream of the termination point. In such a sense, the decoding of genes (or chromosomes) into expression trees is similar to gene expression in nature. The coding region of a gene is called open reading frames (ORFs), which is also named K-expression in GEP.\n",
    "\n",
    "As stated previously, GEP chromosomes have fixed length and are composed of one or more genes of equal length. Therefore the length of a gene is also fixed. Thus, in GEP, what varies is not the length of genes (which is constant), but the length of the ORFs. Indeed, the length of an ORF may be equal to or less than the length of the gene. Due to the possible existence of non-coding regions in GEP genes, a gene of a fixed length can encode a variety of expression trees, i.e., computer programs or mathematical expressions. \n",
    "```\n",
    "\n",
    "- h - length of head\n",
    "- t - length of tail\n",
    "- n - maximum of arity of the function with the most arguments\n",
    "\n",
    "$t=h(n-1)+1$"
   ]
  },
  {
   "cell_type": "markdown",
   "metadata": {
    "collapsed": true
   },
   "source": [
    "# Examples of GEP"
   ]
  },
  {
   "cell_type": "code",
   "execution_count": 1,
   "metadata": {},
   "outputs": [],
   "source": [
    "#!pip3 install geppy\n",
    "#!pip3 install graphviz"
   ]
  },
  {
   "cell_type": "markdown",
   "metadata": {},
   "source": [
    "### 1. Boolean function identification problem"
   ]
  },
  {
   "cell_type": "markdown",
   "metadata": {},
   "source": [
    "#### 1.1 Synthetic dataset"
   ]
  },
  {
   "cell_type": "code",
   "execution_count": 2,
   "metadata": {},
   "outputs": [],
   "source": [
    "def f(a, b, c, d):\n",
    "    \"\"\" The true model, which only involves three inputs on purpose.\"\"\"\n",
    "    return (a and d) or not c"
   ]
  },
  {
   "cell_type": "code",
   "execution_count": 3,
   "metadata": {},
   "outputs": [],
   "source": [
    "import itertools\n",
    "\n",
    "# generate the training set which contains all the 16 samples\n",
    "X = []\n",
    "Y = []\n",
    "for a, b, c, d in itertools.product([True, False], repeat=4):\n",
    "    X.append((a, b, c, d))\n",
    "    Y.append(f(a, b, c, d))"
   ]
  },
  {
   "cell_type": "markdown",
   "metadata": {},
   "source": [
    "#### 1.2 Creating the primitives set"
   ]
  },
  {
   "cell_type": "code",
   "execution_count": 4,
   "metadata": {},
   "outputs": [],
   "source": [
    "import geppy as gep\n",
    "import operator\n",
    "\n",
    "# terminals\n",
    "pset = gep.PrimitiveSet('Main', input_names=['a', 'b', 'c', 'd'])\n",
    "\n",
    "# functions\n",
    "pset.add_function(operator.and_, 2)\n",
    "pset.add_function(operator.or_, 2)\n",
    "pset.add_function(operator.not_, 1)"
   ]
  },
  {
   "cell_type": "markdown",
   "metadata": {},
   "source": [
    "#### 1.3 Create the individual and population"
   ]
  },
  {
   "cell_type": "code",
   "execution_count": 5,
   "metadata": {},
   "outputs": [],
   "source": [
    "from deap import creator, base, tools\n",
    "\n",
    "creator.create(\"FitnessMax\", base.Fitness, weights=(1,))  # to maximize the objective (fitness)\n",
    "creator.create(\"Individual\", gep.Chromosome, fitness=creator.FitnessMax)"
   ]
  },
  {
   "cell_type": "code",
   "execution_count": 6,
   "metadata": {},
   "outputs": [],
   "source": [
    "h = 5   # head length\n",
    "n_genes = 2   # number of genes in a chromosome\n",
    "toolbox = gep.Toolbox()\n",
    "toolbox.register('gene_gen', gep.Gene, pset=pset, head_length=h)\n",
    "toolbox.register('individual', creator.Individual, gene_gen=toolbox.gene_gen, n_genes=n_genes, linker=operator.or_)\n",
    "toolbox.register(\"population\", tools.initRepeat, list, toolbox.individual)\n",
    "\n",
    "# compile utility: which translates an individual into an executable function (Lambda)\n",
    "toolbox.register('compile', gep.compile_, pset=pset)"
   ]
  },
  {
   "cell_type": "markdown",
   "metadata": {},
   "source": [
    "#### 1.4 Define the fitness evaluation function"
   ]
  },
  {
   "cell_type": "code",
   "execution_count": 7,
   "metadata": {},
   "outputs": [],
   "source": [
    "def evaluate(individual):\n",
    "    \"\"\"Evalute the fitness of an individual\"\"\"\n",
    "    func = toolbox.compile(individual)  # a lambda function\n",
    "    n_correct = 0\n",
    "    for (a, b, c, d), y in zip(X, Y):\n",
    "        prediction = func(a, b, c, d)\n",
    "        if prediction == y:\n",
    "            n_correct += 1\n",
    "    return n_correct,"
   ]
  },
  {
   "cell_type": "code",
   "execution_count": 8,
   "metadata": {},
   "outputs": [],
   "source": [
    "toolbox.register('evaluate', evaluate)"
   ]
  },
  {
   "cell_type": "markdown",
   "metadata": {},
   "source": [
    "#### 1.5 Register genetic operators"
   ]
  },
  {
   "cell_type": "code",
   "execution_count": 9,
   "metadata": {},
   "outputs": [],
   "source": [
    "toolbox.register('select', tools.selRoulette)\n",
    "\n",
    "## general mutations whose aliases start with 'mut'\n",
    "# We can specify the probability for an operator with the .pbs property\n",
    "toolbox.register('mut_uniform', gep.mutate_uniform, pset=pset, ind_pb=2 / (2 * h + 1))\n",
    "toolbox.pbs['mut_uniform'] = 0.1\n",
    "# Alternatively, assign the probability along with registration using the pb keyword argument.\n",
    "toolbox.register('mut_invert', gep.invert, pb=0.1)\n",
    "toolbox.register('mut_is_ts', gep.is_transpose, pb=0.1)\n",
    "toolbox.register('mut_ris_ts', gep.ris_transpose, pb=0.1)\n",
    "toolbox.register('mut_gene_ts', gep.gene_transpose, pb=0.1)\n",
    "\n",
    "## general crossover whose aliases start with 'cx'\n",
    "toolbox.register('cx_1p', gep.crossover_one_point, pb=0.1)\n",
    "toolbox.pbs['cx_1p'] = 0.4   # just show that the probability can be overwritten\n",
    "toolbox.register('cx_2p', gep.crossover_two_point, pb=0.2)\n",
    "toolbox.register('cx_gene', gep.crossover_gene, pb=0.1)"
   ]
  },
  {
   "cell_type": "markdown",
   "metadata": {},
   "source": [
    "#### 1.6 Statistics to be inspected"
   ]
  },
  {
   "cell_type": "code",
   "execution_count": 10,
   "metadata": {},
   "outputs": [],
   "source": [
    "import numpy \n",
    "\n",
    "stats = tools.Statistics(key=lambda ind: ind.fitness.values[0])\n",
    "stats.register(\"avg\", numpy.mean)\n",
    "stats.register(\"std\", numpy.std)\n",
    "stats.register(\"min\", numpy.min)\n",
    "stats.register(\"max\", numpy.max)"
   ]
  },
  {
   "cell_type": "markdown",
   "metadata": {},
   "source": [
    "#### 1.7 Launch evolution"
   ]
  },
  {
   "cell_type": "code",
   "execution_count": 11,
   "metadata": {},
   "outputs": [],
   "source": [
    "# this section is just for reproduction purpose since evolutionary algorithms all involve randomness\n",
    "import random\n",
    "random.seed(123)"
   ]
  },
  {
   "cell_type": "code",
   "execution_count": 12,
   "metadata": {},
   "outputs": [
    {
     "name": "stdout",
     "output_type": "stream",
     "text": [
      "gen\tnevals\tavg \tstd   \tmin\tmax\n",
      "0  \t50    \t8.38\t2.6145\t2  \t14 \n",
      "1  \t45    \t9.14\t2.1167\t6  \t14 \n",
      "2  \t40    \t9.96\t2.23571\t6  \t14 \n",
      "3  \t36    \t10.22\t2.28289\t6  \t14 \n",
      "4  \t36    \t10.22\t2.02277\t6  \t14 \n",
      "5  \t36    \t10.3 \t1.86815\t6  \t14 \n",
      "6  \t39    \t9.98 \t2.12123\t4  \t14 \n",
      "7  \t34    \t10.42\t1.97069\t6  \t14 \n",
      "8  \t34    \t10.16\t2.0036 \t5  \t14 \n",
      "9  \t38    \t10.52\t2.55531\t2  \t14 \n",
      "10 \t34    \t10.46\t2.30833\t6  \t14 \n",
      "11 \t34    \t10.78\t2.46   \t6  \t14 \n",
      "12 \t39    \t11.64\t2.25175\t6  \t16 \n",
      "13 \t40    \t11.14\t2.89834\t2  \t16 \n",
      "14 \t37    \t11.84\t2.38629\t6  \t16 \n",
      "15 \t39    \t11.28\t2.49832\t6  \t16 \n",
      "16 \t36    \t11.62\t2.62975\t6  \t16 \n",
      "17 \t40    \t12.2 \t2.498  \t6  \t16 \n",
      "18 \t37    \t12.3 \t2.69258\t6  \t16 \n",
      "19 \t35    \t12.46\t2.55507\t6  \t16 \n",
      "20 \t32    \t12.26\t2.77712\t2  \t16 \n",
      "21 \t29    \t12.46\t2.94761\t4  \t16 \n",
      "22 \t34    \t12.48\t2.98154\t2  \t16 \n",
      "23 \t30    \t12.64\t2.95134\t2  \t16 \n",
      "24 \t37    \t12.26\t2.89005\t4  \t16 \n",
      "25 \t34    \t12.3 \t3.18904\t4  \t16 \n",
      "26 \t38    \t12.68\t2.98288\t2  \t16 \n",
      "27 \t40    \t12.68\t2.67163\t4  \t16 \n",
      "28 \t34    \t13.36\t2.05679\t10 \t16 \n",
      "29 \t36    \t13.08\t2.80599\t2  \t16 \n",
      "30 \t39    \t13.06\t2.75978\t6  \t16 \n",
      "31 \t39    \t12.94\t2.56445\t6  \t16 \n",
      "32 \t31    \t12.8 \t2.5923 \t6  \t16 \n",
      "33 \t29    \t13.3 \t2.33452\t7  \t16 \n",
      "34 \t41    \t13.18\t2.551  \t6  \t16 \n",
      "35 \t36    \t13.56\t2.17403\t6  \t16 \n",
      "36 \t37    \t13.36\t2.55155\t6  \t16 \n",
      "37 \t39    \t12.86\t2.73503\t4  \t16 \n",
      "38 \t43    \t13.12\t2.55844\t6  \t16 \n",
      "39 \t34    \t13.14\t2.72037\t4  \t16 \n",
      "40 \t39    \t12.94\t2.42   \t7  \t16 \n",
      "41 \t37    \t12.1 \t3.06757\t2  \t16 \n",
      "42 \t39    \t12.42\t2.82906\t8  \t16 \n",
      "43 \t36    \t12.44\t2.66203\t8  \t16 \n",
      "44 \t36    \t11.88\t2.84   \t4  \t16 \n",
      "45 \t41    \t11.68\t3.30115\t4  \t16 \n",
      "46 \t36    \t12.14\t3.2864 \t4  \t16 \n",
      "47 \t31    \t12.46\t2.97463\t4  \t16 \n",
      "48 \t32    \t12.78\t2.73708\t8  \t16 \n",
      "49 \t41    \t12.92\t2.81311\t7  \t16 \n",
      "50 \t36    \t12.54\t3.26931\t4  \t16 \n"
     ]
    }
   ],
   "source": [
    "# size of population and number of generations\n",
    "n_pop = 50\n",
    "n_gen = 50\n",
    "\n",
    "pop = toolbox.population(n=n_pop)\n",
    "hof = tools.HallOfFame(1)   # only record the best individual ever found in all generations\n",
    "\n",
    "# start evolution\n",
    "pop, log = gep.gep_simple(pop, toolbox,\n",
    "                          n_generations=n_gen, n_elites=2,\n",
    "                          stats=stats, hall_of_fame=hof, verbose=True)"
   ]
  },
  {
   "cell_type": "code",
   "execution_count": 13,
   "metadata": {},
   "outputs": [
    {
     "name": "stdout",
     "output_type": "stream",
     "text": [
      "or_(\n",
      "\tand_(a, d),\n",
      "\tnot_(c)\n",
      ")\n"
     ]
    }
   ],
   "source": [
    "best = hof[0]\n",
    "print(best)"
   ]
  },
  {
   "cell_type": "code",
   "execution_count": 14,
   "metadata": {},
   "outputs": [
    {
     "name": "stdout",
     "output_type": "stream",
     "text": [
      "- Content of the two genes: \n",
      "<class 'geppy.core.entity.Gene'> [and_, a, d, c, a, b, d, d, b, c, a]\n",
      "<class 'geppy.core.entity.Gene'> [not_, c, and_, and_, d, d, c, b, b, d, a]\n",
      "- K-expression of the two genes\n",
      "[and_, a, d]\n",
      "[not_, c]\n"
     ]
    }
   ],
   "source": [
    "# [optional] check the 11 primitives of each gene\n",
    "print('- Content of the two genes: ')\n",
    "for gene in best:\n",
    "    print(repr(gene))\n",
    "#[optional] we can also check the K-expression (only including primitives that are expressed) of a gene\n",
    "print('- K-expression of the two genes')\n",
    "for gene in best:\n",
    "    print(gene.kexpression)"
   ]
  },
  {
   "cell_type": "markdown",
   "metadata": {},
   "source": [
    "#### 1.8 Post-processing: simplification and visualization"
   ]
  },
  {
   "cell_type": "code",
   "execution_count": 15,
   "metadata": {},
   "outputs": [
    {
     "name": "stdout",
     "output_type": "stream",
     "text": [
      "Symplified best individual: \n",
      "~c | (a & d)\n"
     ]
    }
   ],
   "source": [
    "symplified_best = gep.simplify(best)\n",
    "print('Symplified best individual: ')\n",
    "print(symplified_best)"
   ]
  },
  {
   "cell_type": "code",
   "execution_count": 16,
   "metadata": {},
   "outputs": [],
   "source": [
    "rename_labels = {'and_': '&', 'or_': '|', 'not_': '~'}   # we want use symbol labels instead of words in the tree graph\n",
    "gep.export_expression_tree(best, rename_labels, 'data/bool_tree.png')"
   ]
  },
  {
   "cell_type": "code",
   "execution_count": 17,
   "metadata": {},
   "outputs": [
    {
     "data": {
      "image/png": "[encoded data removed]",
      "text/plain": [
       "<IPython.core.display.Image object>"
      ]
     },
     "execution_count": 17,
     "metadata": {},
     "output_type": "execute_result"
    }
   ],
   "source": [
    "# show the above image here for convenience\n",
    "from IPython.display import Image\n",
    "Image(filename='data/bool_tree.png') "
   ]
  },
  {
   "cell_type": "markdown",
   "metadata": {},
   "source": [
    "GEP algorithm:\n",
    "- create trainig set (for evaluate metric calculating)\n",
    "- create primitives set (terminals and functions)\n",
    "- create individual (set the schema of individual)\n",
    "- crate population (set hyperparams)\n",
    "- set the evaluate function\n",
    "- set genetic operators\n",
    "- set the statistics (for verbose logging)\n",
    "- launch evolution"
   ]
  },
  {
   "cell_type": "markdown",
   "metadata": {},
   "source": [
    "### 2. Dummy regular expression optimization\n",
    "\n",
    "For test:\n",
    "\n",
    "There are functions:\n",
    "- alt (OR)\n",
    "- group (AND)\n",
    "\n",
    "There are terminals:\n",
    "- a\n",
    "- b\n",
    "- c\n",
    "\n",
    "Original regex:\n",
    "```\n",
    "a(b|c)(c|b)\n",
    "```\n",
    "\n",
    "Possible optimized regex:\n",
    "```\n",
    "abc|acb|acc|abb\n",
    "```"
   ]
  },
  {
   "cell_type": "markdown",
   "metadata": {},
   "source": [
    "#### 2.1 Synthetic dataset"
   ]
  },
  {
   "cell_type": "code",
   "execution_count": 18,
   "metadata": {},
   "outputs": [],
   "source": [
    "TERMINALS = ['a', 'b', 'c']\n",
    "\n",
    "def alt(*args):\n",
    "    print(args)\n",
    "    \n",
    "def group(*args):\n",
    "    print(args)\n",
    "\n",
    "FUNCTIONS = {\n",
    "    alt: 2,\n",
    "    group: 3 + 1\n",
    "}\n",
    "TEST_STRINGS = [\n",
    "    # target 1\n",
    "    'abc',\n",
    "    'acb',\n",
    "    'acc',\n",
    "    'abb',\n",
    "    # target 0\n",
    "    'aaa',\n",
    "    'bbb',\n",
    "    'ccc',\n",
    "    'bca',\n",
    "]\n",
    "\n",
    "ORIGINAL_REGEX = 'a(b|c)(c|b)'"
   ]
  },
  {
   "cell_type": "code",
   "execution_count": 19,
   "metadata": {},
   "outputs": [],
   "source": [
    "import re\n",
    "import itertools\n",
    "\n",
    "def f(string, regex):\n",
    "    re_comp = re.compile(regex)\n",
    "    try:\n",
    "        return re_comp.match(string).group()\n",
    "    except AttributeError:\n",
    "        return None\n",
    "\n",
    "def create_training_set(test_strings, original_regex):\n",
    "    Y = []\n",
    "    X = []\n",
    "    for string in test_strings:\n",
    "        X.append(string)\n",
    "        Y.append(f(string=string, regex=original_regex))\n",
    "    return X, Y"
   ]
  },
  {
   "cell_type": "code",
   "execution_count": 20,
   "metadata": {},
   "outputs": [],
   "source": [
    "X, Y = create_training_set(\n",
    "    test_strings=TEST_STRINGS,\n",
    "    original_regex=ORIGINAL_REGEX\n",
    ")"
   ]
  },
  {
   "cell_type": "code",
   "execution_count": 21,
   "metadata": {},
   "outputs": [
    {
     "data": {
      "text/plain": [
       "['abc', 'acb', 'acc', 'abb', 'aaa', 'bbb', 'ccc', 'bca']"
      ]
     },
     "execution_count": 21,
     "metadata": {},
     "output_type": "execute_result"
    }
   ],
   "source": [
    "X"
   ]
  },
  {
   "cell_type": "code",
   "execution_count": 22,
   "metadata": {},
   "outputs": [
    {
     "data": {
      "text/plain": [
       "['abc', 'acb', 'acc', 'abb', None, None, None, None]"
      ]
     },
     "execution_count": 22,
     "metadata": {},
     "output_type": "execute_result"
    }
   ],
   "source": [
    "Y"
   ]
  },
  {
   "cell_type": "markdown",
   "metadata": {},
   "source": [
    "#### 2.2 Creating the primitives set"
   ]
  },
  {
   "cell_type": "code",
   "execution_count": 23,
   "metadata": {},
   "outputs": [],
   "source": [
    "from typing import List, Dict\n",
    "\n",
    "import geppy as gep\n",
    "import operator\n",
    "\n",
    "def create_primitives_set(\n",
    "    terminals: List,\n",
    "    # key - function\n",
    "    # value - arity\n",
    "    functions: Dict\n",
    "\n",
    "):\n",
    "    # terminals\n",
    "    pset = gep.PrimitiveSet('Main', input_names=terminals)\n",
    "\n",
    "    # functions\n",
    "    for function in functions.keys():\n",
    "        pset.add_function(function, functions.get(function))\n",
    "    return pset"
   ]
  },
  {
   "cell_type": "code",
   "execution_count": 24,
   "metadata": {},
   "outputs": [],
   "source": [
    "pset = create_primitives_set(\n",
    "    terminals = TERMINALS,\n",
    "    functions = FUNCTIONS\n",
    ")"
   ]
  },
  {
   "cell_type": "code",
   "execution_count": 25,
   "metadata": {},
   "outputs": [
    {
     "data": {
      "text/plain": [
       "[<class 'geppy.core.symbol.SymbolTerminal'>(name=a, value=None),\n",
       " <class 'geppy.core.symbol.SymbolTerminal'>(name=b, value=None),\n",
       " <class 'geppy.core.symbol.SymbolTerminal'>(name=c, value=None)]"
      ]
     },
     "execution_count": 25,
     "metadata": {},
     "output_type": "execute_result"
    }
   ],
   "source": [
    "# terminals\n",
    "pset._terminals"
   ]
  },
  {
   "cell_type": "code",
   "execution_count": 26,
   "metadata": {},
   "outputs": [
    {
     "data": {
      "text/plain": [
       "[<class 'geppy.core.symbol.Function'>(name=alt, arity=2),\n",
       " <class 'geppy.core.symbol.Function'>(name=group, arity=4)]"
      ]
     },
     "execution_count": 26,
     "metadata": {},
     "output_type": "execute_result"
    }
   ],
   "source": [
    "# functions\n",
    "pset._functions"
   ]
  },
  {
   "cell_type": "markdown",
   "metadata": {},
   "source": [
    "#### 2.3 Create the individual and population"
   ]
  },
  {
   "cell_type": "code",
   "execution_count": 27,
   "metadata": {},
   "outputs": [],
   "source": [
    "from deap import creator, base, tools\n",
    "\n",
    "def create_individual():\n",
    "    creator.create(\"FitnessMin\", base.Fitness, weights=(-1,))   # to minimize the objective (fitness)\n",
    "    creator.create(\"Individual\", gep.Chromosome, fitness=creator.FitnessMin)\n",
    "    return creator\n",
    "\n",
    "def create_popiulation(\n",
    "    pset,\n",
    "    head_length: int = 5,\n",
    "    genes_number_in_chromosome: int = 2,\n",
    "):\n",
    "\n",
    "    h = head_length   # head length\n",
    "    n_genes = genes_number_in_chromosome   # number of genes in a chromosome\n",
    "    toolbox = gep.Toolbox()\n",
    "    toolbox.register('gene_gen', gep.Gene, pset=pset, head_length=h)\n",
    "    toolbox.register(\n",
    "        'individual', \n",
    "        creator.Individual, \n",
    "        gene_gen=toolbox.gene_gen, \n",
    "        n_genes=n_genes,\n",
    "        linker=group\n",
    "    )\n",
    "    toolbox.register(\"population\", tools.initRepeat, list, toolbox.individual)\n",
    "\n",
    "    # compile utility: which translates an individual into an executable function (Lambda)\n",
    "    toolbox.register('compile', gep.compile_, pset=pset)\n",
    "    return toolbox"
   ]
  },
  {
   "cell_type": "code",
   "execution_count": 28,
   "metadata": {},
   "outputs": [
    {
     "name": "stderr",
     "output_type": "stream",
     "text": [
      "/Users/nikitamoroskin/anaconda3/lib/python3.10/site-packages/deap/creator.py:185: RuntimeWarning: A class named 'Individual' has already been created and it will be overwritten. Consider deleting previous creation of that class or rename it.\n",
      "  warnings.warn(\"A class named '{0}' has already been created and it \"\n"
     ]
    }
   ],
   "source": [
    "# set individual\n",
    "\n",
    "creator = create_individual()"
   ]
  },
  {
   "cell_type": "code",
   "execution_count": 29,
   "metadata": {},
   "outputs": [],
   "source": [
    "# set population\n",
    "toolbox = create_popiulation(\n",
    "    pset=pset, \n",
    "    head_length=5,\n",
    "    genes_number_in_chromosome=4\n",
    ")"
   ]
  },
  {
   "cell_type": "code",
   "execution_count": 30,
   "metadata": {},
   "outputs": [
    {
     "data": {
      "text/plain": [
       "functools.partial(<function initRepeat at 0x10915b1c0>, <class 'list'>, functools.partial(<class 'deap.creator.Individual'>, gene_gen=functools.partial(<class 'geppy.core.entity.Gene'>, pset=<geppy.core.symbol.PrimitiveSet object at 0x109aa2950>, head_length=5), n_genes=4, linker=<function group at 0x109ae9090>))"
      ]
     },
     "execution_count": 30,
     "metadata": {},
     "output_type": "execute_result"
    }
   ],
   "source": [
    "toolbox.population"
   ]
  },
  {
   "cell_type": "code",
   "execution_count": 31,
   "metadata": {
    "scrolled": true
   },
   "outputs": [
    {
     "data": {
      "text/plain": [
       "functools.partial(<class 'deap.creator.Individual'>, gene_gen=functools.partial(<class 'geppy.core.entity.Gene'>, pset=<geppy.core.symbol.PrimitiveSet object at 0x109aa2950>, head_length=5), n_genes=4, linker=<function group at 0x109ae9090>)"
      ]
     },
     "execution_count": 31,
     "metadata": {},
     "output_type": "execute_result"
    }
   ],
   "source": [
    "toolbox.individual"
   ]
  },
  {
   "cell_type": "markdown",
   "metadata": {},
   "source": [
    "#### 2.4 Define the fitness evaluationfunction"
   ]
  },
  {
   "cell_type": "code",
   "execution_count": 32,
   "metadata": {},
   "outputs": [],
   "source": [
    "import time\n",
    "\n",
    "N_ITER = 100\n",
    "\n",
    "def get_match_accuracy(regex, phrase, result):\n",
    "    try:\n",
    "        reg_result = regex.match(phrase).group()\n",
    "        if reg_result == result:\n",
    "            return 1\n",
    "        return 0\n",
    "    except AttributeError:\n",
    "        return 0\n",
    "        \n",
    "def get_performance_metric(regex, n_iter, test_strings):\n",
    "    t0 = time.time() * 1000\n",
    "    for _ in range(n_iter):\n",
    "        for test_string in test_strings:\n",
    "            _ = regex.match(test_string)\n",
    "    return ((time.time() * 1000 - t0) / n_iter) / len(test_strings)\n",
    "\n",
    "\n",
    "def dummy_lexical_analyzer(string):\n",
    "    sep_symbols = ['(', ')', ',']\n",
    "    tokens = []\n",
    "    _current_token = ''\n",
    "    for symbol in string:\n",
    "        if symbol in sep_symbols:\n",
    "            if _current_token != '':\n",
    "                tokens.append(_current_token)\n",
    "            tokens.append(symbol)\n",
    "            _current_token = ''\n",
    "        else:\n",
    "            _current_token += symbol\n",
    "    return tokens\n",
    "\n",
    "\n",
    "def dummy_generator(tokens, current_state=None):\n",
    "    result = []\n",
    "    for i, token in enumerate(tokens):\n",
    "        if token in TERMINALS:\n",
    "            result.append(token)\n",
    "        elif token == ',' and current_state == 'alt':\n",
    "            result.append('|')\n",
    "        elif token in ['(', ')'] and current_state in ['group', 'alt']:\n",
    "            result.append(token)\n",
    "        elif token == 'group':\n",
    "            current_state = 'group'\n",
    "        elif token == 'alt':\n",
    "            current_state = 'alt'\n",
    "    return result\n",
    "\n",
    "def regex_compile(individual):\n",
    "    individual = re.sub(r'\\s', '', str(individual))\n",
    "    tokens = dummy_lexical_analyzer(individual)\n",
    "    regex = ''.join(dummy_generator(tokens))\n",
    "    return re.compile(regex)\n",
    "\n",
    "def evaluate(individual):\n",
    "    global X, Y\n",
    "    try:\n",
    "        regex = regex_compile(individual)\n",
    "    except:\n",
    "        return 1\n",
    "    \n",
    "    # count accuracy metric\n",
    "    accuracy = []\n",
    "    for x, y in zip(X, Y):\n",
    "        accuracy.append(\n",
    "            get_match_accuracy(\n",
    "                regex=regex, \n",
    "                phrase=x, \n",
    "                result=y\n",
    "            )\n",
    "        )\n",
    "    coeff = (2. - sum(accuracy)/len(accuracy))\n",
    "\n",
    "    # count performance metric\n",
    "    res_metric = coeff * float(\n",
    "        get_performance_metric(\n",
    "            regex=regex,\n",
    "            n_iter=N_ITER,\n",
    "            test_strings=X\n",
    "    ))\n",
    "    \n",
    "    return res_metric,\n",
    "\n",
    "def set_evalute_function(\n",
    "    toolbox,\n",
    "    evaluate_function\n",
    "):\n",
    "    toolbox.register('evaluate', evaluate_function)\n",
    "    return toolbox"
   ]
  },
  {
   "cell_type": "code",
   "execution_count": 33,
   "metadata": {},
   "outputs": [],
   "source": [
    "toolbox = set_evalute_function(toolbox, evaluate_function=evaluate)"
   ]
  },
  {
   "cell_type": "markdown",
   "metadata": {},
   "source": [
    "#### 2.5 Register genetic operators"
   ]
  },
  {
   "cell_type": "code",
   "execution_count": 34,
   "metadata": {},
   "outputs": [],
   "source": [
    "def set_genetic_operators(\n",
    "    toolbox,\n",
    "    pset,\n",
    "    head_length: int = 5\n",
    "):\n",
    "    toolbox.register('select', tools.selRoulette)\n",
    "    ## general mutations whose aliases start with 'mut'\n",
    "    # We can specify the probability for an operator with the .pbs property\n",
    "    toolbox.register('mut_uniform', gep.mutate_uniform, pset=pset, ind_pb=2 / (2 * head_length + 1))\n",
    "    toolbox.pbs['mut_uniform'] = 0.1\n",
    "    # Alternatively, assign the probability along with registration using the pb keyword argument.\n",
    "    toolbox.register('mut_invert', gep.invert, pb=0.1)\n",
    "    toolbox.register('mut_is_ts', gep.is_transpose, pb=0.1)\n",
    "    toolbox.register('mut_ris_ts', gep.ris_transpose, pb=0.1)\n",
    "    toolbox.register('mut_gene_ts', gep.gene_transpose, pb=0.1)\n",
    "\n",
    "    ## general crossover whose aliases start with 'cx'\n",
    "    toolbox.register('cx_1p', gep.crossover_one_point, pb=0.1)\n",
    "    toolbox.pbs['cx_1p'] = 0.4   # just show that the probability can be overwritten\n",
    "    toolbox.register('cx_2p', gep.crossover_two_point, pb=0.2)\n",
    "    toolbox.register('cx_gene', gep.crossover_gene, pb=0.1)\n",
    "    return toolbox"
   ]
  },
  {
   "cell_type": "code",
   "execution_count": 35,
   "metadata": {},
   "outputs": [],
   "source": [
    "toolbox = set_genetic_operators(toolbox, pset=pset)"
   ]
  },
  {
   "cell_type": "markdown",
   "metadata": {},
   "source": [
    "#### 2.6 Statistics to be inspected"
   ]
  },
  {
   "cell_type": "code",
   "execution_count": 36,
   "metadata": {},
   "outputs": [],
   "source": [
    "from typing import Dict\n",
    "\n",
    "import numpy as np\n",
    "\n",
    "def set_statistic(\n",
    "    statistics_dict: Dict = {\n",
    "        \"avg\": np.mean,\n",
    "        \"std\": np.std,\n",
    "        \"min\": np.min,\n",
    "        \"max\": np.max\n",
    "    }\n",
    "):\n",
    "\n",
    "    stats = tools.Statistics(key=lambda ind: ind.fitness.values[0])\n",
    "    for statistic_name in statistics_dict.keys():\n",
    "        stats.register(statistic_name, statistics_dict[statistic_name])\n",
    "    return stats"
   ]
  },
  {
   "cell_type": "code",
   "execution_count": 37,
   "metadata": {},
   "outputs": [],
   "source": [
    "stats = set_statistic()"
   ]
  },
  {
   "cell_type": "markdown",
   "metadata": {},
   "source": [
    "#### 2.7 Launch evolution"
   ]
  },
  {
   "cell_type": "code",
   "execution_count": 38,
   "metadata": {},
   "outputs": [],
   "source": [
    "import random\n",
    "\n",
    "def launch_evolution(\n",
    "    toolbox,\n",
    "    stats,\n",
    "    seed: int = 11,\n",
    "):\n",
    "    # this section is just for reproduction purpose since evolutionary algorithms all involve randomness\n",
    "    random.seed(seed)\n",
    "    \n",
    "    # size of population and number of generations\n",
    "    n_pop = 50\n",
    "    n_gen = 50\n",
    "\n",
    "    pop = toolbox.population(n=n_pop)\n",
    "    hof = tools.HallOfFame(1)   # only record the best individual ever found in all generations\n",
    "\n",
    "    # start evolution\n",
    "    pop, log = gep.gep_simple(pop, toolbox,\n",
    "                              n_generations=n_gen, n_elites=2,\n",
    "                              stats=stats, hall_of_fame=hof, verbose=True)\n",
    "    \n",
    "    best = hof[0]\n",
    "    print(best)\n",
    "    return best"
   ]
  },
  {
   "cell_type": "code",
   "execution_count": 39,
   "metadata": {
    "scrolled": true
   },
   "outputs": [
    {
     "name": "stdout",
     "output_type": "stream",
     "text": [
      "gen\tnevals\tavg        \tstd        \tmin        \tmax        \n",
      "0  \t50    \t0.000280688\t0.000102603\t0.000186768\t0.000540771\n",
      "1  \t26    \t0.000315186\t0.000112178\t0.000184937\t0.000567627\n",
      "2  \t42    \t0.000350854\t0.000120628\t0.000184937\t0.000670166\n",
      "3  \t31    \t0.000355585\t0.000119177\t0.000184937\t0.000651855\n",
      "4  \t41    \t0.000389014\t0.000108131\t0.000184937\t0.000622559\n",
      "5  \t35    \t0.00038042 \t9.58407e-05\t0.000184937\t0.000541382\n",
      "6  \t41    \t0.000374841\t0.000106086\t0.000184937\t0.000681763\n",
      "7  \t35    \t0.000390421\t9.77162e-05\t0.000184937\t0.000627441\n",
      "8  \t34    \t0.000379031\t0.0001193  \t0.000184937\t0.000638008\n",
      "9  \t37    \t0.00039436 \t0.000120745\t0.000184937\t0.000647163\n",
      "10 \t38    \t0.000396658\t0.00012842 \t0.000184937\t0.000647163\n",
      "11 \t40    \t0.000400723\t0.000128785\t0.000184937\t0.000689697\n",
      "12 \t32    \t0.000412585\t0.000116084\t0.000184937\t0.000645142\n",
      "13 \t35    \t0.000424892\t0.000115543\t0.000184937\t0.000674438\n",
      "14 \t37    \t0.000410446\t0.000126443\t0.000184937\t0.000707397\n",
      "15 \t39    \t0.000447064\t0.000146014\t0.000184937\t0.000759888\n",
      "16 \t35    \t0.000454794\t0.000137464\t0.000184937\t0.000762939\n",
      "17 \t31    \t0.000469064\t0.000136673\t0.000184937\t0.000891724\n",
      "18 \t36    \t0.000475883\t0.000134225\t0.000184937\t0.00088501 \n",
      "19 \t34    \t0.00047012 \t0.000173886\t0.000184937\t0.000864868\n",
      "20 \t39    \t0.000485791\t0.000210117\t0.000184937\t0.0009729  \n",
      "21 \t34    \t0.000523421\t0.000217796\t0.000184937\t0.0009729  \n",
      "22 \t39    \t0.000517623\t0.000177213\t0.000184326\t0.000911865\n",
      "23 \t36    \t0.00047832 \t0.000142887\t0.000184326\t0.000870972\n",
      "24 \t36    \t0.000483263\t0.0001341  \t0.000184326\t0.000872192\n",
      "25 \t37    \t0.000476642\t0.000150216\t0.000184326\t0.00086731 \n",
      "26 \t40    \t0.000479016\t0.000153648\t0.000184326\t0.000837402\n",
      "27 \t33    \t0.00048325 \t0.000164077\t0.000184326\t0.00100525 \n",
      "28 \t34    \t0.000460232\t0.000155689\t0.000184326\t0.000849609\n",
      "29 \t33    \t0.000453553\t0.000135795\t0.000184326\t0.00086731 \n",
      "30 \t29    \t0.000451515\t0.000142825\t0.000184326\t0.00086731 \n",
      "31 \t34    \t0.000459526\t0.000129377\t0.000184326\t0.00086731 \n",
      "32 \t29    \t0.000444646\t0.000128286\t0.000184326\t0.00086731 \n",
      "33 \t34    \t0.000446355\t0.000111079\t0.000184326\t0.00086731 \n",
      "34 \t41    \t0.000437738\t0.000113728\t0.000184326\t0.00086731 \n",
      "35 \t32    \t0.00043689 \t0.000107696\t0.000184326\t0.000717773\n",
      "36 \t31    \t0.000436558\t0.000127934\t0.000184326\t0.000775757\n",
      "37 \t34    \t0.000433228\t0.000161844\t0.000184326\t0.000775757\n",
      "38 \t38    \t0.000459376\t0.000135862\t0.000184326\t0.000766602\n",
      "39 \t33    \t0.000467395\t0.000155429\t0.000184326\t0.000786133\n",
      "40 \t38    \t0.000436963\t0.000170934\t0.000184326\t0.000894775\n",
      "41 \t34    \t0.000459717\t0.000165624\t0.000184326\t0.00093689 \n",
      "42 \t39    \t0.000464172\t0.000160947\t0.000184326\t0.000839844\n",
      "43 \t33    \t0.000479702\t0.000165977\t0.000184326\t0.000830078\n",
      "44 \t35    \t0.000479946\t0.000171859\t0.000184326\t0.000840454\n",
      "45 \t27    \t0.000478176\t0.000168415\t0.000184326\t0.000802612\n",
      "46 \t33    \t0.000515524\t0.000165932\t0.000184326\t0.000964966\n",
      "47 \t32    \t0.000496533\t0.000195947\t0.000184326\t0.000964966\n",
      "48 \t41    \t0.000510201\t0.000193937\t0.000184326\t0.00109985 \n",
      "49 \t30    \t0.000555518\t0.000176424\t0.000184326\t0.000957031\n",
      "50 \t40    \t0.000524397\t0.000207208\t0.000184326\t0.000957031\n",
      "group(\n",
      "\tgroup(a, a, a, c),\n",
      "\tgroup(alt(a, a), alt(a, a), group(a, b, a, a), group(c, c, a, c)),\n",
      "\talt(alt(alt(a, b), group(a, a, c, c)), group(a, a, a, a)),\n",
      "\talt(alt(alt(b, b), group(a, b, b, c)), alt(a, a))\n",
      ")\n"
     ]
    }
   ],
   "source": [
    "best = launch_evolution(\n",
    "    toolbox=toolbox,\n",
    "    stats=stats,\n",
    "    seed=456,\n",
    ")"
   ]
  },
  {
   "cell_type": "markdown",
   "metadata": {},
   "source": [
    "#### 2.8 Post-processing: simplification and visualization"
   ]
  },
  {
   "cell_type": "code",
   "execution_count": 40,
   "metadata": {},
   "outputs": [],
   "source": [
    "def see_individuals(best):\n",
    "    print('- Content of the two genes: ')\n",
    "    for gene in best:\n",
    "        print(repr(gene))\n",
    "    print('- K-expression of the two genes')\n",
    "    for gene in best:\n",
    "        print(gene.kexpression)"
   ]
  },
  {
   "cell_type": "code",
   "execution_count": 41,
   "metadata": {},
   "outputs": [
    {
     "name": "stdout",
     "output_type": "stream",
     "text": [
      "- Content of the two genes: \n",
      "<class 'geppy.core.entity.Gene'> [group, a, a, a, c, c, a, c, b, b, a, c, a, a, a, c, c, c, c, a, b]\n",
      "<class 'geppy.core.entity.Gene'> [group, alt, alt, group, group, a, a, a, a, a, b, a, a, c, c, a, c, c, a, b, b]\n",
      "<class 'geppy.core.entity.Gene'> [alt, alt, group, alt, group, a, a, a, a, a, b, a, a, c, c, a, c, c, a, b, b]\n",
      "<class 'geppy.core.entity.Gene'> [alt, alt, alt, alt, group, a, a, b, b, a, b, b, c, c, a, a, b, c, b, a, b]\n",
      "- K-expression of the two genes\n",
      "[group, a, a, a, c]\n",
      "[group, alt, alt, group, group, a, a, a, a, a, b, a, a, c, c, a, c]\n",
      "[alt, alt, group, alt, group, a, a, a, a, a, b, a, a, c, c]\n",
      "[alt, alt, alt, alt, group, a, a, b, b, a, b, b, c]\n"
     ]
    }
   ],
   "source": [
    "see_individuals(best=best)"
   ]
  },
  {
   "cell_type": "code",
   "execution_count": 42,
   "metadata": {},
   "outputs": [
    {
     "data": {
      "text/plain": [
       "(0.0001904296875,)"
      ]
     },
     "execution_count": 42,
     "metadata": {},
     "output_type": "execute_result"
    }
   ],
   "source": [
    "evaluate(best)"
   ]
  },
  {
   "cell_type": "code",
   "execution_count": 43,
   "metadata": {},
   "outputs": [],
   "source": [
    "rename_labels = {'group': 'group', 'alt': 'alt'}\n",
    "gep.export_expression_tree(best, rename_labels, 'data/dummy_regexp_tree.png')"
   ]
  },
  {
   "cell_type": "code",
   "execution_count": 44,
   "metadata": {},
   "outputs": [
    {
     "data": {
      "image/png": "[encoded data removed]",
      "text/plain": [
       "<IPython.core.display.Image object>"
      ]
     },
     "execution_count": 44,
     "metadata": {},
     "output_type": "execute_result"
    }
   ],
   "source": [
    "from IPython.display import Image\n",
    "Image(filename='data/dummy_regexp_tree.png') "
   ]
  },
  {
   "cell_type": "markdown",
   "metadata": {},
   "source": [
    "### 3. Regular expression optimization\n",
    "\n",
    "There are functions:\n",
    "- alt\n",
    "- group\n",
    "- escape\n",
    "- repeat (only for params from memory)\n",
    "- range (only for params from memory)\n",
    "\n",
    "There are terminals:\n",
    "- all unicode letters\n",
    "- any\n",
    "\n",
    "Original regex:\n",
    "```\n",
    "ab?c.|[0-9]\\[\n",
    "```"
   ]
  },
  {
   "cell_type": "markdown",
   "metadata": {},
   "source": [
    "#### 3.1  Synthetic dataset"
   ]
  },
  {
   "cell_type": "markdown",
   "metadata": {},
   "source": [
    "Prepare terminals (all unicode letters)"
   ]
  },
  {
   "cell_type": "code",
   "execution_count": 45,
   "metadata": {},
   "outputs": [],
   "source": [
    "import unicodedata\n",
    "from geppy.core.symbol import _is_nonkeyword_identifier\n",
    "\n",
    "def get_all_unicode_letters(start_code, stop_code):\n",
    "    start_idx, stop_idx = [int(code, 16) for code in (start_code, stop_code)]\n",
    "    characters = []\n",
    "    for unicode_idx in range(start_idx, stop_idx + 1):\n",
    "        characters.append(chr(unicode_idx))\n",
    "    return characters\n",
    "\n",
    "TERMINALS = []\n",
    "\n",
    "# Latin upper\n",
    "TERMINALS += get_all_unicode_letters('0041', '005A')\n",
    "\n",
    "# Latin lower\n",
    "TERMINALS += get_all_unicode_letters('0061', '007A')\n",
    "\n",
    "# digits\n",
    "TERMINALS += get_all_unicode_letters('0030', '0039')\n",
    "\n",
    "# check ability to get __name__\n",
    "correct_terminals = []\n",
    "\n",
    "for x in TERMINALS:\n",
    "    try:\n",
    "        assert _is_nonkeyword_identifier(x)\n",
    "        correct_terminals.append(x)\n",
    "    except Exception as e:\n",
    "        pass\n",
    "    \n",
    "TERMINALS = correct_terminals\n",
    "\n",
    "# range group and escape in this work will be terminals\n",
    "TERMINALS += ['range', 'any', 'escape']"
   ]
  },
  {
   "cell_type": "markdown",
   "metadata": {},
   "source": [
    "Prepare functions"
   ]
  },
  {
   "cell_type": "code",
   "execution_count": 46,
   "metadata": {},
   "outputs": [],
   "source": [
    "def alt(*args):\n",
    "    return args\n",
    "    \n",
    "def group(*args):\n",
    "    return args\n",
    "\n",
    "def repeat(*args):\n",
    "    return args\n",
    "\n",
    "FUNCTIONS = {\n",
    "    alt: 2,\n",
    "    group: 10,\n",
    "    repeat: 1,\n",
    "}"
   ]
  },
  {
   "cell_type": "markdown",
   "metadata": {},
   "source": [
    "Prepare test strings and define original regex"
   ]
  },
  {
   "cell_type": "code",
   "execution_count": 47,
   "metadata": {},
   "outputs": [],
   "source": [
    "import exrex\n",
    "\n",
    "ORIGINAL_REGEX = 'ab?c.|[0-9]\\['\n",
    "\n",
    "PARAMS = {\n",
    "    'range': ['0-9'],\n",
    "    'repeat': ['0,1']\n",
    "}\n",
    "\n",
    "N_FUZZY_STRINGS = 5\n",
    "\n",
    "TEST_STRINGS = list(exrex.generate(ORIGINAL_REGEX, limit=N_FUZZY_STRINGS))"
   ]
  },
  {
   "cell_type": "markdown",
   "metadata": {},
   "source": [
    "Create synthetic dataset"
   ]
  },
  {
   "cell_type": "code",
   "execution_count": 48,
   "metadata": {},
   "outputs": [],
   "source": [
    "import re\n",
    "import itertools\n",
    "\n",
    "def f(string, regex):\n",
    "    re_comp = re.compile(regex)\n",
    "    try:\n",
    "        return re_comp.match(string).group()\n",
    "    except AttributeError:\n",
    "        return None\n",
    "\n",
    "def create_training_set(test_strings, original_regex):\n",
    "    Y = []\n",
    "    X = []\n",
    "    for string in test_strings:\n",
    "        X.append(string)\n",
    "        Y.append(f(string=string, regex=original_regex))\n",
    "    return X, Y"
   ]
  },
  {
   "cell_type": "code",
   "execution_count": 49,
   "metadata": {},
   "outputs": [],
   "source": [
    "X, Y = create_training_set(\n",
    "    test_strings=TEST_STRINGS,\n",
    "    original_regex=ORIGINAL_REGEX\n",
    ")"
   ]
  },
  {
   "cell_type": "code",
   "execution_count": 50,
   "metadata": {},
   "outputs": [
    {
     "data": {
      "text/plain": [
       "(192, 192)"
      ]
     },
     "execution_count": 50,
     "metadata": {},
     "output_type": "execute_result"
    }
   ],
   "source": [
    "len(X), len(Y)"
   ]
  },
  {
   "cell_type": "markdown",
   "metadata": {},
   "source": [
    "#### 3.2 Creating the primitives set"
   ]
  },
  {
   "cell_type": "code",
   "execution_count": 51,
   "metadata": {},
   "outputs": [],
   "source": [
    "from typing import List, Dict\n",
    "\n",
    "import geppy as gep\n",
    "import operator\n",
    "\n",
    "def create_primitives_set(\n",
    "    terminals: List,\n",
    "    # key - function\n",
    "    # value - arity\n",
    "    functions: Dict\n",
    "\n",
    "):\n",
    "    # terminals\n",
    "    pset = gep.PrimitiveSet('Main', input_names=terminals)\n",
    "\n",
    "    # functions\n",
    "    for function in functions.keys():\n",
    "        pset.add_function(function, functions.get(function))\n",
    "    return pset"
   ]
  },
  {
   "cell_type": "code",
   "execution_count": 52,
   "metadata": {},
   "outputs": [],
   "source": [
    "pset = create_primitives_set(\n",
    "    terminals = TERMINALS,\n",
    "    functions = FUNCTIONS\n",
    ")"
   ]
  },
  {
   "cell_type": "markdown",
   "metadata": {},
   "source": [
    "#### 3.3 Create the individual and population"
   ]
  },
  {
   "cell_type": "code",
   "execution_count": 53,
   "metadata": {},
   "outputs": [],
   "source": [
    "from deap import creator, base, tools\n",
    "\n",
    "def create_individual():\n",
    "    creator.create(\"FitnessMin\", base.Fitness, weights=(-1,))   # to minimize the objective (fitness)\n",
    "    creator.create(\"Individual\", gep.Chromosome, fitness=creator.FitnessMin)\n",
    "    return creator\n",
    "\n",
    "def create_popiulation(\n",
    "    pset,\n",
    "    head_length: int = 5,\n",
    "    genes_number_in_chromosome: int = 2,\n",
    "):\n",
    "\n",
    "    h = head_length   # head length\n",
    "    n_genes = genes_number_in_chromosome   # number of genes in a chromosome\n",
    "    toolbox = gep.Toolbox()\n",
    "    toolbox.register('gene_gen', gep.Gene, pset=pset, head_length=h)\n",
    "    toolbox.register(\n",
    "        'individual', \n",
    "        creator.Individual, \n",
    "        gene_gen=toolbox.gene_gen, \n",
    "        n_genes=n_genes,\n",
    "        linker=group\n",
    "    )\n",
    "    toolbox.register(\"population\", tools.initRepeat, list, toolbox.individual)\n",
    "\n",
    "    # compile utility: which translates an individual into an executable function (Lambda)\n",
    "    toolbox.register('compile', gep.compile_, pset=pset)\n",
    "    return toolbox"
   ]
  },
  {
   "cell_type": "code",
   "execution_count": 54,
   "metadata": {},
   "outputs": [
    {
     "name": "stderr",
     "output_type": "stream",
     "text": [
      "/Users/nikitamoroskin/anaconda3/lib/python3.10/site-packages/deap/creator.py:185: RuntimeWarning: A class named 'FitnessMin' has already been created and it will be overwritten. Consider deleting previous creation of that class or rename it.\n",
      "  warnings.warn(\"A class named '{0}' has already been created and it \"\n",
      "/Users/nikitamoroskin/anaconda3/lib/python3.10/site-packages/deap/creator.py:185: RuntimeWarning: A class named 'Individual' has already been created and it will be overwritten. Consider deleting previous creation of that class or rename it.\n",
      "  warnings.warn(\"A class named '{0}' has already been created and it \"\n"
     ]
    }
   ],
   "source": [
    "# set individual\n",
    "\n",
    "creator = create_individual()"
   ]
  },
  {
   "cell_type": "code",
   "execution_count": 55,
   "metadata": {},
   "outputs": [],
   "source": [
    "# set population\n",
    "toolbox = create_popiulation(\n",
    "    pset=pset, \n",
    "    head_length=5,\n",
    "    genes_number_in_chromosome=2\n",
    ")"
   ]
  },
  {
   "cell_type": "markdown",
   "metadata": {},
   "source": [
    "#### 3.4 Define the fitness evaluation function"
   ]
  },
  {
   "cell_type": "code",
   "execution_count": 56,
   "metadata": {},
   "outputs": [],
   "source": [
    "import time\n",
    "import random\n",
    "\n",
    "N_ITER = 100\n",
    "\n",
    "def get_match_accuracy(regex, phrase, result):\n",
    "    try:\n",
    "        reg_result = regex.match(phrase).group()\n",
    "        if reg_result == result:\n",
    "            return 1\n",
    "        return 0\n",
    "    except AttributeError:\n",
    "        return 0\n",
    "        \n",
    "def get_performance_metric(regex, n_iter, test_strings):\n",
    "    t0 = time.time() * 1000\n",
    "    for _ in range(n_iter):\n",
    "        for test_string in test_strings:\n",
    "            _ = regex.match(test_string)\n",
    "    return ((time.time() * 1000 - t0) / n_iter) / len(test_strings)\n",
    "\n",
    "\n",
    "def lexical_analyzer(string):\n",
    "    sep_symbols = ['(', ')', ',']\n",
    "    tokens = []\n",
    "    _current_token = ''\n",
    "    for symbol in string:\n",
    "        if symbol in sep_symbols:\n",
    "            if _current_token != '':\n",
    "                tokens.append(_current_token)\n",
    "            tokens.append(symbol)\n",
    "            _current_token = ''\n",
    "        else:\n",
    "            _current_token += symbol\n",
    "    return tokens\n",
    "\n",
    "\n",
    "def generator(tokens, current_state=None):\n",
    "    result = []\n",
    "    repeat = False\n",
    "    for i, token in enumerate(tokens):\n",
    "        if token in TERMINALS:\n",
    "            # work with special terminals\n",
    "            if token == 'escape':\n",
    "                result.append('\\\\')\n",
    "            elif token == 'any':\n",
    "                result.append('.')\n",
    "            elif token == 'range':\n",
    "                result.append(f'[{random.choice(PARAMS[\"range\"])}]')\n",
    "            else:\n",
    "                result.append(token)\n",
    "        # add arguments\n",
    "        elif token == ',' and current_state == 'alt':\n",
    "            result.append('|')\n",
    "        elif token == ')' and repeat is True and current_state is None:\n",
    "            result.append(f'{\"{\"}{random.choice(PARAMS[\"repeat\"])}{\"}\"}')\n",
    "            repeat = False\n",
    "        elif token == '(' and current_state in ['group', 'alt']:\n",
    "            result.append(token)\n",
    "        elif token == ')':\n",
    "            current_state = None\n",
    "            result.append(')')\n",
    "        # check functions\n",
    "        elif token == 'group':\n",
    "            current_state = 'group'\n",
    "        elif token == 'repeat':\n",
    "            repeat = True\n",
    "        elif token == 'alt':\n",
    "            current_state = 'alt'\n",
    "    return result\n",
    "\n",
    "def regex_compile(individual):\n",
    "    individual = re.sub(r'\\s', '', str(individual))\n",
    "    tokens = lexical_analyzer(individual)\n",
    "    regex = ''.join(generator(tokens)) + ')'\n",
    "    try:\n",
    "        return re.compile(regex), None\n",
    "    except Exception as e:\n",
    "        return None, f'error: {e}, string: {regex}'\n",
    "\n",
    "def evaluate(individual):\n",
    "    global X, Y\n",
    "    regex = regex_compile(individual)[0]\n",
    "    \n",
    "    if not regex:\n",
    "        return 1_000,\n",
    "    \n",
    "    # count accuracy metric\n",
    "    accuracy = []\n",
    "    for x, y in zip(X, Y):\n",
    "        accuracy.append(\n",
    "            get_match_accuracy(\n",
    "                regex=regex, \n",
    "                phrase=x, \n",
    "                result=y\n",
    "            )\n",
    "        )\n",
    "    accuracy = sum(accuracy)/len(accuracy)\n",
    "\n",
    "    try:\n",
    "        res_metric = float(\n",
    "            get_performance_metric(\n",
    "                regex=regex,\n",
    "                n_iter=N_ITER,\n",
    "                test_strings=X\n",
    "        )) / accuracy\n",
    "    except ZeroDivisionError:\n",
    "        res_metric = 1_000\n",
    "\n",
    "    return res_metric,\n",
    "\n",
    "def set_evalute_function(\n",
    "    toolbox,\n",
    "    evaluate_function\n",
    "):\n",
    "    toolbox.register('evaluate', evaluate_function)\n",
    "    return toolbox"
   ]
  },
  {
   "cell_type": "code",
   "execution_count": 57,
   "metadata": {},
   "outputs": [],
   "source": [
    "toolbox = set_evalute_function(toolbox, evaluate_function=evaluate)"
   ]
  },
  {
   "cell_type": "markdown",
   "metadata": {},
   "source": [
    "#### 3.5 Register genetic operators"
   ]
  },
  {
   "cell_type": "code",
   "execution_count": 58,
   "metadata": {},
   "outputs": [],
   "source": [
    "def set_genetic_operators(\n",
    "    toolbox,\n",
    "    pset,\n",
    "    head_length: int = 5\n",
    "):\n",
    "    toolbox.register('select', tools.selRoulette)\n",
    "    ## general mutations whose aliases start with 'mut'\n",
    "    # We can specify the probability for an operator with the .pbs property\n",
    "    toolbox.register('mut_uniform', gep.mutate_uniform, pset=pset, ind_pb=2 / (2 * head_length + 1))\n",
    "    toolbox.pbs['mut_uniform'] = 0.3\n",
    "    # Alternatively, assign the probability along with registration using the pb keyword argument.\n",
    "    toolbox.register('mut_invert', gep.invert, pb=0.1)\n",
    "    toolbox.register('mut_is_ts', gep.is_transpose, pb=0.1)\n",
    "    toolbox.register('mut_ris_ts', gep.ris_transpose, pb=0.1)\n",
    "    toolbox.register('mut_gene_ts', gep.gene_transpose, pb=0.4)\n",
    "\n",
    "    ## general crossover whose aliases start with 'cx'\n",
    "    toolbox.register('cx_1p', gep.crossover_one_point, pb=0.1)\n",
    "    toolbox.pbs['cx_1p'] = 0.4   # just show that the probability can be overwritten\n",
    "    toolbox.register('cx_2p', gep.crossover_two_point, pb=0.2)\n",
    "    toolbox.register('cx_gene', gep.crossover_gene, pb=0.1)\n",
    "    return toolbox"
   ]
  },
  {
   "cell_type": "code",
   "execution_count": 59,
   "metadata": {},
   "outputs": [],
   "source": [
    "toolbox = set_genetic_operators(toolbox, pset=pset)"
   ]
  },
  {
   "cell_type": "markdown",
   "metadata": {},
   "source": [
    "#### 3.6 Statistics to be inspected"
   ]
  },
  {
   "cell_type": "code",
   "execution_count": 60,
   "metadata": {},
   "outputs": [],
   "source": [
    "from typing import Dict\n",
    "\n",
    "import numpy as np\n",
    "\n",
    "def set_statistic(\n",
    "    statistics_dict: Dict = {\n",
    "        \"avg\": np.mean,\n",
    "        \"std\": np.std,\n",
    "        \"min\": np.min,\n",
    "        \"max\": np.max\n",
    "    }\n",
    "):\n",
    "\n",
    "    stats = tools.Statistics(key=lambda ind: ind.fitness.values[0])\n",
    "    for statistic_name in statistics_dict.keys():\n",
    "        stats.register(statistic_name, statistics_dict[statistic_name])\n",
    "    return stats"
   ]
  },
  {
   "cell_type": "code",
   "execution_count": 61,
   "metadata": {},
   "outputs": [],
   "source": [
    "stats = set_statistic()"
   ]
  },
  {
   "cell_type": "markdown",
   "metadata": {},
   "source": [
    "#### 3.7 Launch evolution"
   ]
  },
  {
   "cell_type": "code",
   "execution_count": 62,
   "metadata": {},
   "outputs": [],
   "source": [
    "import random\n",
    "\n",
    "def launch_evolution(\n",
    "    toolbox,\n",
    "    stats,\n",
    "    seed: int = 11,\n",
    "):\n",
    "    # this section is just for reproduction purpose since evolutionary algorithms all involve randomness\n",
    "    random.seed(seed)\n",
    "    \n",
    "    # size of population and number of generations\n",
    "    n_pop = 500\n",
    "    n_gen = 100\n",
    "\n",
    "    pop = toolbox.population(n=n_pop)\n",
    "    hof = tools.HallOfFame(1)   # only record the best individual ever found in all generations\n",
    "\n",
    "    # start evolution\n",
    "    pop, log = gep.gep_simple(pop, toolbox,\n",
    "                              n_generations=n_gen, n_elites=2,\n",
    "                              stats=stats, hall_of_fame=hof, verbose=True)\n",
    "    \n",
    "    best = hof[0]\n",
    "    print(best)\n",
    "    return best"
   ]
  },
  {
   "cell_type": "code",
   "execution_count": 63,
   "metadata": {},
   "outputs": [
    {
     "name": "stdout",
     "output_type": "stream",
     "text": [
      "gen\tnevals\tavg\tstd    \tmin      \tmax \n",
      "0  \t500   \t996\t63.1187\t0.0030542\t1000\n",
      "1  \t438   \t996\t63.1187\t0.0030542\t1000\n",
      "2  \t435   \t996\t63.1187\t0.0030542\t1000\n",
      "3  \t436   \t996\t63.1187\t0.0030542\t1000\n",
      "4  \t427   \t996\t63.1187\t0.0030542\t1000\n",
      "5  \t424   \t996\t63.1187\t0.0030542\t1000\n",
      "6  \t448   \t994\t77.2267\t0.0026582\t1000\n",
      "7  \t432   \t996\t63.1188\t0.0026582\t1000\n",
      "8  \t426   \t996\t63.1188\t0.0026582\t1000\n",
      "9  \t435   \t996\t63.1188\t0.0026582\t1000\n",
      "10 \t433   \t996\t63.1188\t0.0026582\t1000\n",
      "11 \t429   \t994\t77.2267\t0.00265186\t1000\n",
      "12 \t439   \t996\t63.1188\t0.00265186\t1000\n",
      "13 \t434   \t996\t63.1188\t0.00265186\t1000\n",
      "14 \t450   \t996\t63.1188\t0.00265186\t1000\n",
      "15 \t444   \t996\t63.1188\t0.00265186\t1000\n",
      "16 \t437   \t996\t63.1188\t0.00265186\t1000\n",
      "17 \t438   \t996\t63.1188\t0.00265186\t1000\n",
      "18 \t433   \t996\t63.1188\t0.00265186\t1000\n",
      "19 \t434   \t992\t89.084 \t0.0021499 \t1000\n",
      "20 \t431   \t996\t63.1188\t0.0021499 \t1000\n",
      "21 \t436   \t996\t63.1188\t0.0021499 \t1000\n",
      "22 \t425   \t992\t89.084 \t0.00214819\t1000\n",
      "23 \t419   \t996\t63.1188\t0.00214819\t1000\n",
      "24 \t422   \t996\t63.1188\t0.00214819\t1000\n",
      "25 \t448   \t996\t63.1188\t0.00214819\t1000\n",
      "26 \t441   \t996\t63.1188\t0.00214819\t1000\n",
      "27 \t428   \t996\t63.1188\t0.00214819\t1000\n",
      "28 \t436   \t996\t63.1188\t0.00214819\t1000\n",
      "29 \t436   \t996\t63.1188\t0.00214819\t1000\n",
      "30 \t428   \t996\t63.1188\t0.00214819\t1000\n",
      "31 \t446   \t996\t63.1188\t0.00214819\t1000\n",
      "32 \t427   \t996\t63.1188\t0.00214819\t1000\n",
      "33 \t438   \t996\t63.1188\t0.00214819\t1000\n",
      "34 \t438   \t996\t63.1188\t0.00214819\t1000\n",
      "35 \t433   \t996\t63.1188\t0.00214819\t1000\n",
      "36 \t424   \t996\t63.1188\t0.00214819\t1000\n",
      "37 \t439   \t996\t63.1188\t0.00214819\t1000\n",
      "38 \t430   \t996\t63.1188\t0.00214819\t1000\n",
      "39 \t420   \t996\t63.1188\t0.00214819\t1000\n",
      "40 \t424   \t996\t63.1188\t0.00214819\t1000\n",
      "41 \t426   \t996\t63.1188\t0.00214819\t1000\n",
      "42 \t442   \t996\t63.1188\t0.00214819\t1000\n",
      "43 \t430   \t996\t63.1188\t0.00214819\t1000\n",
      "44 \t438   \t996\t63.1188\t0.00214819\t1000\n",
      "45 \t426   \t996\t63.1188\t0.00214819\t1000\n",
      "46 \t447   \t996\t63.1188\t0.00214819\t1000\n",
      "47 \t448   \t996\t63.1188\t0.00214819\t1000\n",
      "48 \t441   \t996\t63.1188\t0.00214819\t1000\n",
      "49 \t441   \t996\t63.1188\t0.00214819\t1000\n",
      "50 \t440   \t996\t63.1188\t0.00214819\t1000\n",
      "51 \t445   \t994\t77.2267\t0.00214819\t1000\n",
      "52 \t427   \t996\t63.1188\t0.00214819\t1000\n",
      "53 \t436   \t996\t63.1188\t0.00214819\t1000\n",
      "54 \t431   \t996\t63.1188\t0.00214819\t1000\n",
      "55 \t429   \t996\t63.1188\t0.00214819\t1000\n",
      "56 \t431   \t996\t63.1188\t0.00214819\t1000\n",
      "57 \t430   \t996\t63.1188\t0.00214819\t1000\n",
      "58 \t438   \t996\t63.1188\t0.00214819\t1000\n",
      "59 \t445   \t996\t63.1188\t0.00214819\t1000\n",
      "60 \t440   \t994\t77.2267\t0.00214819\t1000\n",
      "61 \t442   \t996\t63.1188\t0.00214819\t1000\n",
      "62 \t428   \t996\t63.1188\t0.00214819\t1000\n",
      "63 \t444   \t996\t63.1188\t0.00214819\t1000\n",
      "64 \t425   \t996\t63.1188\t0.00214819\t1000\n",
      "65 \t426   \t996\t63.1188\t0.00214819\t1000\n",
      "66 \t446   \t994\t77.2267\t0.00214819\t1000\n",
      "67 \t437   \t996\t63.1188\t0.00214819\t1000\n",
      "68 \t437   \t996\t63.1188\t0.00214819\t1000\n",
      "69 \t430   \t996\t63.1188\t0.00214819\t1000\n",
      "70 \t423   \t994\t77.2267\t0.00214819\t1000\n",
      "71 \t422   \t994\t77.2267\t0.00214819\t1000\n",
      "72 \t431   \t992\t89.0839\t0.00214819\t1000\n",
      "73 \t429   \t996\t63.1188\t0.00214819\t1000\n",
      "74 \t428   \t996\t63.1188\t0.00214819\t1000\n",
      "75 \t424   \t996\t63.1188\t0.00214819\t1000\n",
      "76 \t430   \t996\t63.1188\t0.00214819\t1000\n",
      "77 \t430   \t994\t77.2268\t0.00207935\t1000\n",
      "78 \t437   \t996\t63.1188\t0.00207935\t1000\n",
      "79 \t441   \t994\t77.2268\t0.00207935\t1000\n",
      "80 \t448   \t996\t63.1188\t0.00207935\t1000\n",
      "81 \t432   \t996\t63.1188\t0.00207935\t1000\n",
      "82 \t416   \t996\t63.1188\t0.00207935\t1000\n",
      "83 \t447   \t996\t63.1188\t0.00207935\t1000\n",
      "84 \t424   \t996\t63.1188\t0.00207935\t1000\n",
      "85 \t432   \t996\t63.1188\t0.00207935\t1000\n",
      "86 \t431   \t994\t77.2268\t0.0020498 \t1000\n",
      "87 \t436   \t996\t63.1188\t0.0020498 \t1000\n",
      "88 \t433   \t996\t63.1188\t0.0020498 \t1000\n",
      "89 \t432   \t996\t63.1188\t0.0020498 \t1000\n",
      "90 \t427   \t996\t63.1188\t0.0020498 \t1000\n",
      "91 \t431   \t996\t63.1188\t0.0020498 \t1000\n",
      "92 \t444   \t996\t63.1188\t0.0020498 \t1000\n",
      "93 \t446   \t996\t63.1188\t0.0020498 \t1000\n",
      "94 \t424   \t996\t63.1188\t0.0020498 \t1000\n",
      "95 \t439   \t996\t63.1188\t0.0020498 \t1000\n",
      "96 \t420   \t996\t63.1188\t0.0020498 \t1000\n",
      "97 \t427   \t996\t63.1188\t0.0020498 \t1000\n",
      "98 \t427   \t996\t63.1188\t0.0020498 \t1000\n",
      "99 \t431   \t996\t63.1188\t0.0020498 \t1000\n",
      "100\t446   \t996\t63.1188\t0.0020498 \t1000\n",
      "group(\n",
      "\trange,\n",
      "\trepeat(repeat(any))\n",
      ")\n"
     ]
    }
   ],
   "source": [
    "best = launch_evolution(\n",
    "    toolbox=toolbox,\n",
    "    stats=stats,\n",
    "    seed=156,\n",
    ")"
   ]
  },
  {
   "cell_type": "markdown",
   "metadata": {},
   "source": [
    "#### 3.8 Post-processing: simplification and visualization"
   ]
  },
  {
   "cell_type": "code",
   "execution_count": 64,
   "metadata": {},
   "outputs": [],
   "source": [
    "def see_individuals(best):\n",
    "    print('- Content of the two genes: ')\n",
    "    for gene in best:\n",
    "        print(repr(gene))\n",
    "    print('- K-expression of the two genes')\n",
    "    for gene in best:\n",
    "        print(gene.kexpression)"
   ]
  },
  {
   "cell_type": "code",
   "execution_count": 65,
   "metadata": {},
   "outputs": [
    {
     "name": "stdout",
     "output_type": "stream",
     "text": [
      "- Content of the two genes: \n",
      "<class 'geppy.core.entity.Gene'> [range, r, repeat, F, C, g, I, V, q, P, N, any, N, l, U, M, range, H, b, o, w, I, O, u, X, k, l, z, Q, i, m, q, X, z, O, M, i, L, e, c, v, X, z, X, D, escape, c, N, L, S, X]\n",
      "<class 'geppy.core.entity.Gene'> [repeat, repeat, any, i, group, D, r, e, v, d, A, K, range, o, b, range, y, M, K, Q, u, Y, D, R, g, S, F, g, range, P, b, j, l, G, m, f, w, n, q, y, any, X, Q, Y, X, q, S, K, q, B, w]\n",
      "- K-expression of the two genes\n",
      "[range]\n",
      "[repeat, repeat, any]\n"
     ]
    }
   ],
   "source": [
    "see_individuals(best=best)"
   ]
  },
  {
   "cell_type": "code",
   "execution_count": 66,
   "metadata": {},
   "outputs": [
    {
     "data": {
      "text/plain": [
       "(0.0020712890625,)"
      ]
     },
     "execution_count": 66,
     "metadata": {},
     "output_type": "execute_result"
    }
   ],
   "source": [
    "evaluate(best)"
   ]
  },
  {
   "cell_type": "code",
   "execution_count": 67,
   "metadata": {},
   "outputs": [],
   "source": [
    "rename_labels = {'group': 'group', 'alt': 'alt', 'repeat': 'repeat', 'escape': 'escape', '_range': 'range'}\n",
    "gep.export_expression_tree(best, rename_labels, 'data/regexp_tree.png')"
   ]
  },
  {
   "cell_type": "code",
   "execution_count": 68,
   "metadata": {
    "scrolled": false
   },
   "outputs": [
    {
     "data": {
      "image/png": "[encoded data removed]",
      "text/plain": [
       "<IPython.core.display.Image object>"
      ]
     },
     "execution_count": 68,
     "metadata": {},
     "output_type": "execute_result"
    }
   ],
   "source": [
    "from IPython.display import Image\n",
    "Image(filename='data/regexp_tree.png')"
   ]
  },
  {
   "cell_type": "code",
   "execution_count": 69,
   "metadata": {},
   "outputs": [
    {
     "data": {
      "text/plain": [
       "(re.compile(r'([0-9]((.){0,1}))', re.UNICODE), None)"
      ]
     },
     "execution_count": 69,
     "metadata": {},
     "output_type": "execute_result"
    }
   ],
   "source": [
    "regex_compile(best)"
   ]
  },
  {
   "cell_type": "code",
   "execution_count": null,
   "metadata": {},
   "outputs": [],
   "source": []
  }
 ],
 "metadata": {
  "kernelspec": {
   "display_name": "Python 3 (ipykernel)",
   "language": "python",
   "name": "python3"
  },
  "language_info": {
   "codemirror_mode": {
    "name": "ipython",
    "version": 3
   },
   "file_extension": ".py",
   "mimetype": "text/x-python",
   "name": "python",
   "nbconvert_exporter": "python",
   "pygments_lexer": "ipython3",
   "version": "3.10.9"
  }
 },
 "nbformat": 4,
 "nbformat_minor": 1
}
