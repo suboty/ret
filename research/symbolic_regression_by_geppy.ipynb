{
 "cells": [
  {
   "cell_type": "markdown",
   "metadata": {},
   "source": [
    "# Symbolic regression on regular expressions\n",
    "\n",
    "by **G**ene **E**xpression **P**rogramming (GEP)\n",
    "\n",
    "Matherials from [geppy documentation](https://geppy.readthedocs.io/en/latest/intro_GEP.html)\n",
    "\n",
    "## Useful theory\n",
    "\n",
    "### Symbolic regression\n",
    "```\n",
    "Symbolic regression is a type of regression analysis that searches the space of mathematical expressions to find the model that best fits a given dataset, both in terms of accuracy and simplicity.\n",
    "```\n",
    "\n",
    "### Gene expression programming (GEP)\n",
    "```\n",
    "Gene expression programming (GEP) belongs to the family of evolutionary algorithms and is closely related to genetic algorithms and genetic programming (GP). Like GP, GEP is a special field of evolutionary computation that aims at building programs automatically to solve problems independently of their domain, i.e., the search space of GEP consists of computer problems and mathematical models.\n",
    "```\n",
    "\n",
    "### Functions and terminals\n",
    "\n",
    "```\n",
    "Just following the terminology of GP, there are two kinds of primitives in GEP: function and terminal. A function is a primitive that can accepts one or more arguments and returns a result after evaluation, while a terminal represents a constant or a variable in a given program.\n",
    "```"
   ]
  },
  {
   "cell_type": "markdown",
   "metadata": {},
   "source": [
    "## Intro to GEP\n",
    "For example:\n",
    "\n",
    "Functions alphabet: [max, +, *]\n",
    "\n",
    "Terminals alphabet: (x, y, 3, 4)\n",
    "\n",
    "- gene <max,+,+,*,x,x,x,y,3,4,y>\n",
    "- gene = head <max,+,+,*> + tail <x,x,x,y,3,4,y>\n",
    "\n",
    "**Genotype**: \n",
    "\n",
    "max++*xxxy34y\n",
    "\n",
    "**Phenotype** (Expression Tree):\n",
    "```\n",
    "[max]\n",
    "    [+]\n",
    "        (x)\n",
    "        (x)\n",
    "    [+]\n",
    "        (x)\n",
    "    [*]\n",
    "        (y)\n",
    "        (3)\n",
    "```\n",
    "\n",
    "**ORF (K-expression)**\n",
    "\n",
    "[max, +, +, *, x, x, x, y, 3]\n",
    "\n",
    "```\n",
    "It is easy to notice that the last two elements in the gene don’t appear in the expression tree. Although in GEP the start site is always the first position of a gene, the termination point does not always coincide with the last position of a gene. It is common for GEP genes to have non-coding regions downstream of the termination point. In such a sense, the decoding of genes (or chromosomes) into expression trees is similar to gene expression in nature. The coding region of a gene is called open reading frames (ORFs), which is also named K-expression in GEP.\n",
    "\n",
    "As stated previously, GEP chromosomes have fixed length and are composed of one or more genes of equal length. Therefore the length of a gene is also fixed. Thus, in GEP, what varies is not the length of genes (which is constant), but the length of the ORFs. Indeed, the length of an ORF may be equal to or less than the length of the gene. Due to the possible existence of non-coding regions in GEP genes, a gene of a fixed length can encode a variety of expression trees, i.e., computer programs or mathematical expressions. \n",
    "```\n",
    "\n",
    "- h - length of head\n",
    "- t - length of tail\n",
    "- n - maximum of arity of the function with the most arguments\n",
    "\n",
    "$t=h(n-1)+1$"
   ]
  },
  {
   "cell_type": "markdown",
   "metadata": {
    "collapsed": true
   },
   "source": [
    "# Examples of GEP"
   ]
  },
  {
   "cell_type": "code",
   "execution_count": null,
   "metadata": {},
   "outputs": [],
   "source": [
    "#!pip3 install geppy\n",
    "#!pip3 install graphviz"
   ]
  },
  {
   "cell_type": "markdown",
   "metadata": {},
   "source": [
    "### 1. Boolean function identification problem"
   ]
  },
  {
   "cell_type": "markdown",
   "metadata": {},
   "source": [
    "#### 1.1 Synthetic dataset"
   ]
  },
  {
   "cell_type": "code",
   "execution_count": null,
   "metadata": {},
   "outputs": [],
   "source": [
    "def f(a, b, c, d):\n",
    "    \"\"\" The true model, which only involves three inputs on purpose.\"\"\"\n",
    "    return (a and d) or not c"
   ]
  },
  {
   "cell_type": "code",
   "execution_count": null,
   "metadata": {},
   "outputs": [],
   "source": [
    "import itertools\n",
    "\n",
    "# generate the training set which contains all the 16 samples\n",
    "X = []\n",
    "Y = []\n",
    "for a, b, c, d in itertools.product([True, False], repeat=4):\n",
    "    X.append((a, b, c, d))\n",
    "    Y.append(f(a, b, c, d))"
   ]
  },
  {
   "cell_type": "markdown",
   "metadata": {},
   "source": [
    "#### 1.2 Creating the primitives set"
   ]
  },
  {
   "cell_type": "code",
   "execution_count": null,
   "metadata": {},
   "outputs": [],
   "source": [
    "import geppy as gep\n",
    "import operator\n",
    "\n",
    "# terminals\n",
    "pset = gep.PrimitiveSet('Main', input_names=['a', 'b', 'c', 'd'])\n",
    "\n",
    "# functions\n",
    "pset.add_function(operator.and_, 2)\n",
    "pset.add_function(operator.or_, 2)\n",
    "pset.add_function(operator.not_, 1)"
   ]
  },
  {
   "cell_type": "markdown",
   "metadata": {},
   "source": [
    "#### 1.3 Create the individual and population"
   ]
  },
  {
   "cell_type": "code",
   "execution_count": null,
   "metadata": {},
   "outputs": [],
   "source": [
    "from deap import creator, base, tools\n",
    "\n",
    "creator.create(\"FitnessMax\", base.Fitness, weights=(1,))  # to maximize the objective (fitness)\n",
    "creator.create(\"Individual\", gep.Chromosome, fitness=creator.FitnessMax)"
   ]
  },
  {
   "cell_type": "code",
   "execution_count": null,
   "metadata": {},
   "outputs": [],
   "source": [
    "h = 5   # head length\n",
    "n_genes = 2   # number of genes in a chromosome\n",
    "toolbox = gep.Toolbox()\n",
    "toolbox.register('gene_gen', gep.Gene, pset=pset, head_length=h)\n",
    "toolbox.register('individual', creator.Individual, gene_gen=toolbox.gene_gen, n_genes=n_genes, linker=operator.or_)\n",
    "toolbox.register(\"population\", tools.initRepeat, list, toolbox.individual)\n",
    "\n",
    "# compile utility: which translates an individual into an executable function (Lambda)\n",
    "toolbox.register('compile', gep.compile_, pset=pset)"
   ]
  },
  {
   "cell_type": "markdown",
   "metadata": {},
   "source": [
    "#### 1.4 Define the fitness evaluation function"
   ]
  },
  {
   "cell_type": "code",
   "execution_count": null,
   "metadata": {},
   "outputs": [],
   "source": [
    "def evaluate(individual):\n",
    "    \"\"\"Evalute the fitness of an individual\"\"\"\n",
    "    func = toolbox.compile(individual)  # a lambda function\n",
    "    n_correct = 0\n",
    "    for (a, b, c, d), y in zip(X, Y):\n",
    "        prediction = func(a, b, c, d)\n",
    "        if prediction == y:\n",
    "            n_correct += 1\n",
    "    return n_correct,"
   ]
  },
  {
   "cell_type": "code",
   "execution_count": null,
   "metadata": {},
   "outputs": [],
   "source": [
    "toolbox.register('evaluate', evaluate)"
   ]
  },
  {
   "cell_type": "markdown",
   "metadata": {},
   "source": [
    "#### 1.5 Register genetic operators"
   ]
  },
  {
   "cell_type": "code",
   "execution_count": null,
   "metadata": {},
   "outputs": [],
   "source": [
    "toolbox.register('select', tools.selRoulette)\n",
    "\n",
    "## general mutations whose aliases start with 'mut'\n",
    "# We can specify the probability for an operator with the .pbs property\n",
    "toolbox.register('mut_uniform', gep.mutate_uniform, pset=pset, ind_pb=2 / (2 * h + 1))\n",
    "toolbox.pbs['mut_uniform'] = 0.1\n",
    "# Alternatively, assign the probability along with registration using the pb keyword argument.\n",
    "toolbox.register('mut_invert', gep.invert, pb=0.1)\n",
    "toolbox.register('mut_is_ts', gep.is_transpose, pb=0.1)\n",
    "toolbox.register('mut_ris_ts', gep.ris_transpose, pb=0.1)\n",
    "toolbox.register('mut_gene_ts', gep.gene_transpose, pb=0.1)\n",
    "\n",
    "## general crossover whose aliases start with 'cx'\n",
    "toolbox.register('cx_1p', gep.crossover_one_point, pb=0.1)\n",
    "toolbox.pbs['cx_1p'] = 0.4   # just show that the probability can be overwritten\n",
    "toolbox.register('cx_2p', gep.crossover_two_point, pb=0.2)\n",
    "toolbox.register('cx_gene', gep.crossover_gene, pb=0.1)"
   ]
  },
  {
   "cell_type": "markdown",
   "metadata": {},
   "source": [
    "#### 1.6 Statistics to be inspected"
   ]
  },
  {
   "cell_type": "code",
   "execution_count": null,
   "metadata": {},
   "outputs": [],
   "source": [
    "import numpy \n",
    "\n",
    "stats = tools.Statistics(key=lambda ind: ind.fitness.values[0])\n",
    "stats.register(\"avg\", numpy.mean)\n",
    "stats.register(\"std\", numpy.std)\n",
    "stats.register(\"min\", numpy.min)\n",
    "stats.register(\"max\", numpy.max)"
   ]
  },
  {
   "cell_type": "markdown",
   "metadata": {},
   "source": [
    "#### 1.7 Launch evolution"
   ]
  },
  {
   "cell_type": "code",
   "execution_count": null,
   "metadata": {},
   "outputs": [],
   "source": [
    "# this section is just for reproduction purpose since evolutionary algorithms all involve randomness\n",
    "import random\n",
    "random.seed(123)"
   ]
  },
  {
   "cell_type": "code",
   "execution_count": null,
   "metadata": {},
   "outputs": [],
   "source": [
    "# size of population and number of generations\n",
    "n_pop = 50\n",
    "n_gen = 50\n",
    "\n",
    "pop = toolbox.population(n=n_pop)\n",
    "hof = tools.HallOfFame(1)   # only record the best individual ever found in all generations\n",
    "\n",
    "# start evolution\n",
    "pop, log = gep.gep_simple(pop, toolbox,\n",
    "                          n_generations=n_gen, n_elites=2,\n",
    "                          stats=stats, hall_of_fame=hof, verbose=True)"
   ]
  },
  {
   "cell_type": "code",
   "execution_count": null,
   "metadata": {},
   "outputs": [],
   "source": [
    "best = hof[0]\n",
    "print(best)"
   ]
  },
  {
   "cell_type": "code",
   "execution_count": null,
   "metadata": {},
   "outputs": [],
   "source": [
    "# [optional] check the 11 primitives of each gene\n",
    "print('- Content of the two genes: ')\n",
    "for gene in best:\n",
    "    print(repr(gene))\n",
    "#[optional] we can also check the K-expression (only including primitives that are expressed) of a gene\n",
    "print('- K-expression of the two genes')\n",
    "for gene in best:\n",
    "    print(gene.kexpression)"
   ]
  },
  {
   "cell_type": "markdown",
   "metadata": {},
   "source": [
    "#### 1.8 Post-processing: simplification and visualization"
   ]
  },
  {
   "cell_type": "code",
   "execution_count": null,
   "metadata": {},
   "outputs": [],
   "source": [
    "symplified_best = gep.simplify(best)\n",
    "print('Symplified best individual: ')\n",
    "print(symplified_best)"
   ]
  },
  {
   "cell_type": "code",
   "execution_count": null,
   "metadata": {},
   "outputs": [],
   "source": [
    "rename_labels = {'and_': '&', 'or_': '|', 'not_': '~'}   # we want use symbol labels instead of words in the tree graph\n",
    "gep.export_expression_tree(best, rename_labels, 'data/bool_tree.png')"
   ]
  },
  {
   "cell_type": "code",
   "execution_count": null,
   "metadata": {},
   "outputs": [],
   "source": [
    "# show the above image here for convenience\n",
    "from IPython.display import Image\n",
    "Image(filename='data/bool_tree.png') "
   ]
  },
  {
   "cell_type": "markdown",
   "metadata": {},
   "source": [
    "GEP algorithm:\n",
    "- create trainig set (for evaluate metric calculating)\n",
    "- create primitives set (terminals and functions)\n",
    "- create individual (set the schema of individual)\n",
    "- crate population (set hyperparams)\n",
    "- set the evaluate function\n",
    "- set genetic operators\n",
    "- set the statistics (for verbose logging)\n",
    "- launch evolution"
   ]
  },
  {
   "cell_type": "markdown",
   "metadata": {},
   "source": [
    "### 2. Dummy regular expression optimization\n",
    "\n",
    "For test:\n",
    "\n",
    "There are functions:\n",
    "- alt (OR)\n",
    "- group (AND)\n",
    "\n",
    "There are terminals:\n",
    "- a\n",
    "- b\n",
    "- c\n",
    "\n",
    "Original regex:\n",
    "```\n",
    "a(b|c)(c|b)\n",
    "```\n",
    "\n",
    "Possible optimized regex:\n",
    "```\n",
    "abc|acb|acc|abb\n",
    "```"
   ]
  },
  {
   "cell_type": "markdown",
   "metadata": {},
   "source": [
    "#### 2.1 Synthetic dataset"
   ]
  },
  {
   "cell_type": "code",
   "execution_count": 48,
   "metadata": {},
   "outputs": [],
   "source": [
    "TERMINALS = ['a', 'b', 'c']\n",
    "\n",
    "def alt(*args):\n",
    "    print(args)\n",
    "    \n",
    "def group(*args):\n",
    "    print(args)\n",
    "\n",
    "FUNCTIONS = {\n",
    "    alt: 2,\n",
    "    group: 3 + 1\n",
    "}\n",
    "TEST_STRINGS = [\n",
    "    # target 1\n",
    "    'abc',\n",
    "    'acb',\n",
    "    'acc',\n",
    "    'abb',\n",
    "]\n",
    "\n",
    "ORIGINAL_REGEX = 'a(b|c)(c|b)'"
   ]
  },
  {
   "cell_type": "code",
   "execution_count": 49,
   "metadata": {},
   "outputs": [],
   "source": [
    "import re\n",
    "import itertools\n",
    "\n",
    "def f(string, regex):\n",
    "    re_comp = re.compile(regex)\n",
    "    return re_comp.match(string).group()\n",
    "\n",
    "def create_training_set(test_strings, original_regex):\n",
    "    Y = []\n",
    "    X = []\n",
    "    for string in test_strings:\n",
    "        X.append(string)\n",
    "        Y.append(f(string=string, regex=original_regex))\n",
    "    return X, Y"
   ]
  },
  {
   "cell_type": "code",
   "execution_count": 50,
   "metadata": {},
   "outputs": [],
   "source": [
    "X, Y = create_training_set(\n",
    "    test_strings=TEST_STRINGS,\n",
    "    original_regex=ORIGINAL_REGEX\n",
    ")"
   ]
  },
  {
   "cell_type": "code",
   "execution_count": 51,
   "metadata": {},
   "outputs": [
    {
     "data": {
      "text/plain": [
       "['abc', 'acb', 'acc', 'abb']"
      ]
     },
     "execution_count": 51,
     "metadata": {},
     "output_type": "execute_result"
    }
   ],
   "source": [
    "X"
   ]
  },
  {
   "cell_type": "code",
   "execution_count": 52,
   "metadata": {},
   "outputs": [
    {
     "data": {
      "text/plain": [
       "['abc', 'acb', 'acc', 'abb']"
      ]
     },
     "execution_count": 52,
     "metadata": {},
     "output_type": "execute_result"
    }
   ],
   "source": [
    "Y"
   ]
  },
  {
   "cell_type": "markdown",
   "metadata": {},
   "source": [
    "#### 2.2 Creating the primitives set"
   ]
  },
  {
   "cell_type": "code",
   "execution_count": 53,
   "metadata": {},
   "outputs": [],
   "source": [
    "from typing import List, Dict\n",
    "\n",
    "import geppy as gep\n",
    "import operator\n",
    "\n",
    "def create_primitives_set(\n",
    "    terminals: List,\n",
    "    # key - function\n",
    "    # value - arity\n",
    "    functions: Dict\n",
    "\n",
    "):\n",
    "    # terminals\n",
    "    pset = gep.PrimitiveSet('Main', input_names=terminals)\n",
    "\n",
    "    # functions\n",
    "    for function in functions.keys():\n",
    "        pset.add_function(function, functions.get(function))\n",
    "    return pset"
   ]
  },
  {
   "cell_type": "code",
   "execution_count": 54,
   "metadata": {},
   "outputs": [],
   "source": [
    "pset = create_primitives_set(\n",
    "    terminals = TERMINALS,\n",
    "    functions = FUNCTIONS\n",
    ")"
   ]
  },
  {
   "cell_type": "code",
   "execution_count": 55,
   "metadata": {},
   "outputs": [
    {
     "data": {
      "text/plain": [
       "[<class 'geppy.core.symbol.SymbolTerminal'>(name=a, value=None),\n",
       " <class 'geppy.core.symbol.SymbolTerminal'>(name=b, value=None),\n",
       " <class 'geppy.core.symbol.SymbolTerminal'>(name=c, value=None)]"
      ]
     },
     "execution_count": 55,
     "metadata": {},
     "output_type": "execute_result"
    }
   ],
   "source": [
    "# terminals\n",
    "pset._terminals"
   ]
  },
  {
   "cell_type": "code",
   "execution_count": 56,
   "metadata": {},
   "outputs": [
    {
     "data": {
      "text/plain": [
       "[<class 'geppy.core.symbol.Function'>(name=alt, arity=2),\n",
       " <class 'geppy.core.symbol.Function'>(name=group, arity=4)]"
      ]
     },
     "execution_count": 56,
     "metadata": {},
     "output_type": "execute_result"
    }
   ],
   "source": [
    "# functions\n",
    "pset._functions"
   ]
  },
  {
   "cell_type": "markdown",
   "metadata": {},
   "source": [
    "#### 2.3 Create the individual and population"
   ]
  },
  {
   "cell_type": "code",
   "execution_count": 57,
   "metadata": {},
   "outputs": [],
   "source": [
    "from deap import creator, base, tools\n",
    "\n",
    "def create_individual():\n",
    "    creator.create(\"FitnessMin\", base.Fitness, weights=(-1,))   # to minimize the objective (fitness)\n",
    "    creator.create(\"Individual\", gep.Chromosome, fitness=creator.FitnessMax)\n",
    "    return creator\n",
    "\n",
    "def create_popiulation(\n",
    "    pset,\n",
    "    head_length: int = 5,\n",
    "    genes_number_in_chromosome: int = 2,\n",
    "):\n",
    "\n",
    "    h = head_length   # head length\n",
    "    n_genes = genes_number_in_chromosome   # number of genes in a chromosome\n",
    "    toolbox = gep.Toolbox()\n",
    "    toolbox.register('gene_gen', gep.Gene, pset=pset, head_length=h)\n",
    "    toolbox.register(\n",
    "        'individual', \n",
    "        creator.Individual, \n",
    "        gene_gen=toolbox.gene_gen, \n",
    "        n_genes=n_genes,\n",
    "        linker=group\n",
    "    )\n",
    "    toolbox.register(\"population\", tools.initRepeat, list, toolbox.individual)\n",
    "\n",
    "    # compile utility: which translates an individual into an executable function (Lambda)\n",
    "    toolbox.register('compile', gep.compile_, pset=pset)\n",
    "    return toolbox"
   ]
  },
  {
   "cell_type": "code",
   "execution_count": 58,
   "metadata": {},
   "outputs": [
    {
     "name": "stderr",
     "output_type": "stream",
     "text": [
      "/Users/nikitamoroskin/anaconda3/lib/python3.10/site-packages/deap/creator.py:185: RuntimeWarning: A class named 'Individual' has already been created and it will be overwritten. Consider deleting previous creation of that class or rename it.\n",
      "  warnings.warn(\"A class named '{0}' has already been created and it \"\n"
     ]
    }
   ],
   "source": [
    "# set individual\n",
    "\n",
    "creator = create_individual()"
   ]
  },
  {
   "cell_type": "code",
   "execution_count": 59,
   "metadata": {},
   "outputs": [],
   "source": [
    "# set population\n",
    "toolbox = create_popiulation(\n",
    "    pset=pset, \n",
    "    head_length=5,\n",
    "    genes_number_in_chromosome=4\n",
    ")"
   ]
  },
  {
   "cell_type": "code",
   "execution_count": 60,
   "metadata": {},
   "outputs": [
    {
     "data": {
      "text/plain": [
       "functools.partial(<function initRepeat at 0x1090a6b00>, <class 'list'>, functools.partial(<class 'deap.creator.Individual'>, gene_gen=functools.partial(<class 'geppy.core.entity.Gene'>, pset=<geppy.core.symbol.PrimitiveSet object at 0x10b5237f0>, head_length=5), n_genes=4, linker=<function group at 0x10b4cc1f0>))"
      ]
     },
     "execution_count": 60,
     "metadata": {},
     "output_type": "execute_result"
    }
   ],
   "source": [
    "toolbox.population"
   ]
  },
  {
   "cell_type": "code",
   "execution_count": 61,
   "metadata": {
    "scrolled": true
   },
   "outputs": [
    {
     "data": {
      "text/plain": [
       "functools.partial(<class 'deap.creator.Individual'>, gene_gen=functools.partial(<class 'geppy.core.entity.Gene'>, pset=<geppy.core.symbol.PrimitiveSet object at 0x10b5237f0>, head_length=5), n_genes=4, linker=<function group at 0x10b4cc1f0>)"
      ]
     },
     "execution_count": 61,
     "metadata": {},
     "output_type": "execute_result"
    }
   ],
   "source": [
    "toolbox.individual"
   ]
  },
  {
   "cell_type": "markdown",
   "metadata": {},
   "source": [
    "#### 2.4 Define the fitness evaluationfunction"
   ]
  },
  {
   "cell_type": "code",
   "execution_count": 62,
   "metadata": {},
   "outputs": [],
   "source": [
    "import time\n",
    "\n",
    "N_ITER = 100\n",
    "\n",
    "def get_match_accuracy(regex, phrase, result):\n",
    "    try:\n",
    "        reg_result = regex.match(phrase).group()\n",
    "        if reg_result == result:\n",
    "            return 1\n",
    "        return 0\n",
    "    except AttributeError:\n",
    "        return 0\n",
    "        \n",
    "def get_performance_metric(regex, n_iter, test_strings):\n",
    "    t0 = time.time() * 1000\n",
    "    for _ in range(n_iter):\n",
    "        for test_string in test_strings:\n",
    "            _ = regex.match(test_string)\n",
    "    return ((time.time() * 1000 - t0) / n_iter) / len(test_strings)\n",
    "\n",
    "\n",
    "def dummy_lexical_analyzer(string):\n",
    "    sep_symbols = ['(', ')', ',']\n",
    "    tokens = []\n",
    "    _current_token = ''\n",
    "    for symbol in string:\n",
    "        if symbol in sep_symbols:\n",
    "            if _current_token != '':\n",
    "                tokens.append(_current_token)\n",
    "            tokens.append(symbol)\n",
    "            _current_token = ''\n",
    "        else:\n",
    "            _current_token += symbol\n",
    "    return tokens\n",
    "\n",
    "\n",
    "def dummy_generator(tokens, current_state=None):\n",
    "    result = []\n",
    "    for i, token in enumerate(tokens):\n",
    "        if token in TERMINALS:\n",
    "            result.append(token)\n",
    "        elif token == ',' and current_state == 'alt':\n",
    "            result.append('|')\n",
    "        elif token in ['(', ')'] and current_state in ['group', 'alt']:\n",
    "            result.append(token)\n",
    "        elif token == 'group':\n",
    "            current_state = 'group'\n",
    "        elif token == 'alt':\n",
    "            current_state = 'alt'\n",
    "    return result\n",
    "\n",
    "def regex_compile(individual):\n",
    "    individual = re.sub(r'\\s', '', str(individual))\n",
    "    tokens = dummy_lexical_analyzer(individual)\n",
    "    regex = ''.join(dummy_generator(tokens))\n",
    "    return re.compile(regex)\n",
    "\n",
    "def evaluate(individual):\n",
    "    global X, Y\n",
    "    regex = regex_compile(individual)\n",
    "    \n",
    "    # count accuracy metric\n",
    "    accuracy = []\n",
    "    for x, y in zip(X, Y):\n",
    "        accuracy.append(\n",
    "            get_match_accuracy(\n",
    "                regex=regex, \n",
    "                phrase=x, \n",
    "                result=y\n",
    "            )\n",
    "        )\n",
    "    coeff = (2. - sum(accuracy)/len(accuracy))\n",
    "\n",
    "    # count performance metric\n",
    "    res_metric = coeff * float(\n",
    "        get_performance_metric(\n",
    "            regex=regex,\n",
    "            n_iter=N_ITER,\n",
    "            test_strings=X\n",
    "    ))\n",
    "    \n",
    "    return res_metric,\n",
    "\n",
    "def set_evalute_function(\n",
    "    toolbox,\n",
    "    evaluate_function\n",
    "):\n",
    "    toolbox.register('evaluate', evaluate_function)\n",
    "    return toolbox"
   ]
  },
  {
   "cell_type": "code",
   "execution_count": 63,
   "metadata": {},
   "outputs": [],
   "source": [
    "toolbox = set_evalute_function(toolbox, evaluate_function=evaluate)"
   ]
  },
  {
   "cell_type": "markdown",
   "metadata": {},
   "source": [
    "#### 2.5 Register genetic operators"
   ]
  },
  {
   "cell_type": "code",
   "execution_count": 64,
   "metadata": {},
   "outputs": [],
   "source": [
    "def set_genetic_operators(\n",
    "    toolbox,\n",
    "    pset,\n",
    "    head_length: int = 5\n",
    "):\n",
    "    toolbox.register('select', tools.selRoulette)\n",
    "    ## general mutations whose aliases start with 'mut'\n",
    "    # We can specify the probability for an operator with the .pbs property\n",
    "    toolbox.register('mut_uniform', gep.mutate_uniform, pset=pset, ind_pb=2 / (2 * head_length + 1))\n",
    "    toolbox.pbs['mut_uniform'] = 0.1\n",
    "    # Alternatively, assign the probability along with registration using the pb keyword argument.\n",
    "    toolbox.register('mut_invert', gep.invert, pb=0.1)\n",
    "    toolbox.register('mut_is_ts', gep.is_transpose, pb=0.1)\n",
    "    toolbox.register('mut_ris_ts', gep.ris_transpose, pb=0.1)\n",
    "    toolbox.register('mut_gene_ts', gep.gene_transpose, pb=0.1)\n",
    "\n",
    "    ## general crossover whose aliases start with 'cx'\n",
    "    toolbox.register('cx_1p', gep.crossover_one_point, pb=0.1)\n",
    "    toolbox.pbs['cx_1p'] = 0.4   # just show that the probability can be overwritten\n",
    "    toolbox.register('cx_2p', gep.crossover_two_point, pb=0.2)\n",
    "    toolbox.register('cx_gene', gep.crossover_gene, pb=0.1)\n",
    "    return toolbox"
   ]
  },
  {
   "cell_type": "code",
   "execution_count": 65,
   "metadata": {},
   "outputs": [],
   "source": [
    "toolbox = set_genetic_operators(toolbox, pset=pset)"
   ]
  },
  {
   "cell_type": "markdown",
   "metadata": {},
   "source": [
    "#### 2.6 Statistics to be inspected"
   ]
  },
  {
   "cell_type": "code",
   "execution_count": 66,
   "metadata": {},
   "outputs": [],
   "source": [
    "from typing import Dict\n",
    "\n",
    "import numpy as np\n",
    "\n",
    "def set_statistic(\n",
    "    statistics_dict: Dict = {\n",
    "        \"avg\": np.mean,\n",
    "        \"std\": np.std,\n",
    "        \"min\": np.min,\n",
    "        \"max\": np.max\n",
    "    }\n",
    "):\n",
    "\n",
    "    stats = tools.Statistics(key=lambda ind: ind.fitness.values[0])\n",
    "    for statistic_name in statistics_dict.keys():\n",
    "        stats.register(statistic_name, statistics_dict[statistic_name])\n",
    "    return stats"
   ]
  },
  {
   "cell_type": "code",
   "execution_count": 67,
   "metadata": {},
   "outputs": [],
   "source": [
    "stats = set_statistic()"
   ]
  },
  {
   "cell_type": "markdown",
   "metadata": {},
   "source": [
    "#### 2.7 Launch evolution"
   ]
  },
  {
   "cell_type": "code",
   "execution_count": 68,
   "metadata": {},
   "outputs": [],
   "source": [
    "import random\n",
    "\n",
    "def launch_evolution(\n",
    "    toolbox,\n",
    "    stats,\n",
    "    seed: int = 11,\n",
    "):\n",
    "    # this section is just for reproduction purpose since evolutionary algorithms all involve randomness\n",
    "    random.seed(seed)\n",
    "    \n",
    "    # size of population and number of generations\n",
    "    n_pop = 50\n",
    "    n_gen = 50\n",
    "\n",
    "    pop = toolbox.population(n=n_pop)\n",
    "    hof = tools.HallOfFame(1)   # only record the best individual ever found in all generations\n",
    "\n",
    "    # start evolution\n",
    "    pop, log = gep.gep_simple(pop, toolbox,\n",
    "                              n_generations=n_gen, n_elites=2,\n",
    "                              stats=stats, hall_of_fame=hof, verbose=True)\n",
    "    \n",
    "    best = hof[0]\n",
    "    print(best)\n",
    "    return best"
   ]
  },
  {
   "cell_type": "code",
   "execution_count": 69,
   "metadata": {
    "scrolled": true
   },
   "outputs": [
    {
     "name": "stdout",
     "output_type": "stream",
     "text": [
      "gen\tnevals\tavg        \tstd        \tmin        \tmax       \n",
      "0  \t50    \t0.000569897\t0.000333038\t0.000224609\t0.00152466\n",
      "1  \t26    \t0.000634082\t0.000359888\t0.00022583 \t0.00152466\n",
      "2  \t42    \t0.000613702\t0.000338748\t0.000229492\t0.00152466\n",
      "3  \t31    \t0.000558557\t0.000297515\t0.000205078\t0.00152466\n",
      "4  \t41    \t0.00050867 \t0.000233045\t0.000198975\t0.00152466\n",
      "5  \t32    \t0.000571381\t0.000295047\t0.000206299\t0.00152466\n",
      "6  \t37    \t0.000589462\t0.000359528\t0.000201416\t0.00152466\n",
      "7  \t36    \t0.00054689 \t0.000342527\t0.000198975\t0.00152466\n",
      "8  \t36    \t0.000553717\t0.000302885\t0.000205078\t0.00152466\n",
      "9  \t38    \t0.000519742\t0.000237638\t0.000200195\t0.00152466\n",
      "10 \t41    \t0.00056257 \t0.000320186\t0.000198975\t0.00152466\n",
      "11 \t33    \t0.000632391\t0.000376675\t0.000200195\t0.00152466\n",
      "12 \t33    \t0.000589038\t0.000298358\t0.000198975\t0.00152466\n",
      "13 \t35    \t0.00062883 \t0.0003797  \t0.000198975\t0.00152466\n",
      "14 \t33    \t0.000688675\t0.000438362\t0.000198975\t0.00152466\n",
      "15 \t37    \t0.000656396\t0.000426858\t0.000198975\t0.00152466\n",
      "16 \t36    \t0.000619278\t0.000326291\t0.000198975\t0.00152466\n",
      "17 \t36    \t0.000598822\t0.000333599\t0.000198975\t0.00152466\n",
      "18 \t35    \t0.000565576\t0.000307384\t0.000198975\t0.00152466\n",
      "19 \t37    \t0.000554687\t0.000312243\t0.000198975\t0.00152466\n",
      "20 \t36    \t0.000569302\t0.000347707\t0.000200195\t0.00152466\n",
      "21 \t38    \t0.000570935\t0.000314561\t0.000198975\t0.00152466\n",
      "22 \t40    \t0.000556253\t0.000282037\t0.000200195\t0.00152466\n",
      "23 \t28    \t0.00057933 \t0.000309494\t0.000203857\t0.00152466\n",
      "24 \t39    \t0.000589725\t0.000296291\t0.000203857\t0.00152466\n",
      "25 \t37    \t0.000557916\t0.000312355\t0.000198975\t0.00152466\n",
      "26 \t41    \t0.00052738 \t0.000285345\t0.000200195\t0.00152466\n",
      "27 \t31    \t0.000599548\t0.000329467\t0.000205078\t0.00152466\n",
      "28 \t40    \t0.000548047\t0.000318357\t0.000200195\t0.00152466\n",
      "29 \t31    \t0.000517163\t0.000327168\t0.000201416\t0.00152466\n",
      "30 \t34    \t0.000533945\t0.000280864\t0.000203857\t0.00152466\n",
      "31 \t30    \t0.000603296\t0.000329351\t0.000205078\t0.00152466\n",
      "32 \t35    \t0.000631223\t0.000386031\t0.000198975\t0.00152466\n",
      "33 \t33    \t0.000622192\t0.000377   \t0.000198975\t0.00152466\n",
      "34 \t40    \t0.000629022\t0.000330504\t0.000200195\t0.00152466\n",
      "35 \t38    \t0.000590155\t0.000274677\t0.000209961\t0.00152466\n",
      "36 \t38    \t0.000587552\t0.000312735\t0.000200195\t0.00152466\n",
      "37 \t38    \t0.000586221\t0.00031724 \t0.000200195\t0.00152466\n",
      "38 \t37    \t0.000627127\t0.000393294\t0.000201416\t0.00152466\n",
      "39 \t37    \t0.000590155\t0.000331381\t0.000198975\t0.00152466\n",
      "40 \t36    \t0.000588342\t0.000353385\t0.000200195\t0.00152466\n",
      "41 \t35    \t0.000630453\t0.000384946\t0.000198975\t0.00152466\n",
      "42 \t34    \t0.00055    \t0.00031587 \t0.000198975\t0.00152466\n",
      "43 \t33    \t0.00063819 \t0.00037068 \t0.000205078\t0.00152466\n",
      "44 \t37    \t0.000661353\t0.000366224\t0.000200195\t0.00152466\n",
      "45 \t37    \t0.000566187\t0.000314145\t0.000200195\t0.00152466\n",
      "46 \t32    \t0.000643384\t0.000371728\t0.000200195\t0.00152466\n",
      "47 \t30    \t0.000687979\t0.000407068\t0.000200195\t0.00152466\n",
      "48 \t37    \t0.000565173\t0.000264814\t0.000203857\t0.00152466\n",
      "49 \t31    \t0.000602036\t0.000364886\t0.000200195\t0.00152466\n",
      "50 \t32    \t0.000610953\t0.000329075\t0.000200195\t0.00152466\n",
      "group(\n",
      "\tgroup(group(c, c, a, a), alt(a, c), alt(b, a), group(b, b, c, b)),\n",
      "\tgroup(c, c, alt(b, b), alt(a, c)),\n",
      "\talt(b, alt(group(c, c, c, c), b)),\n",
      "\tb\n",
      ")\n"
     ]
    }
   ],
   "source": [
    "best = launch_evolution(\n",
    "    toolbox=toolbox,\n",
    "    stats=stats,\n",
    "    seed=456,\n",
    ")"
   ]
  },
  {
   "cell_type": "markdown",
   "metadata": {},
   "source": [
    "#### 1.8 Post-processing: simplification and visualization"
   ]
  },
  {
   "cell_type": "code",
   "execution_count": 70,
   "metadata": {},
   "outputs": [],
   "source": [
    "def see_individuals(best):\n",
    "    print('- Content of the two genes: ')\n",
    "    for gene in best:\n",
    "        print(repr(gene))\n",
    "    print('- K-expression of the two genes')\n",
    "    for gene in best:\n",
    "        print(gene.kexpression)"
   ]
  },
  {
   "cell_type": "code",
   "execution_count": 71,
   "metadata": {},
   "outputs": [
    {
     "name": "stdout",
     "output_type": "stream",
     "text": [
      "- Content of the two genes: \n",
      "<class 'geppy.core.entity.Gene'> [group, group, alt, alt, group, c, c, a, a, a, c, b, a, b, b, c, b, b, b, a, c]\n",
      "<class 'geppy.core.entity.Gene'> [group, c, c, alt, alt, b, b, a, c, b, c, a, c, a, a, a, a, a, b, c, a]\n",
      "<class 'geppy.core.entity.Gene'> [alt, b, alt, group, b, c, c, c, c, c, a, c, b, b, b, b, b, a, c, c, b]\n",
      "<class 'geppy.core.entity.Gene'> [b, group, alt, c, b, a, a, c, c, c, c, a, c, c, c, b, a, a, c, b, a]\n",
      "- K-expression of the two genes\n",
      "[group, group, alt, alt, group, c, c, a, a, a, c, b, a, b, b, c, b]\n",
      "[group, c, c, alt, alt, b, b, a, c]\n",
      "[alt, b, alt, group, b, c, c, c, c]\n",
      "[b]\n"
     ]
    }
   ],
   "source": [
    "see_individuals(best=best)"
   ]
  },
  {
   "cell_type": "code",
   "execution_count": 72,
   "metadata": {},
   "outputs": [
    {
     "data": {
      "text/plain": [
       "(0.0010205078125,)"
      ]
     },
     "execution_count": 72,
     "metadata": {},
     "output_type": "execute_result"
    }
   ],
   "source": [
    "evaluate(best)"
   ]
  },
  {
   "cell_type": "code",
   "execution_count": 73,
   "metadata": {},
   "outputs": [],
   "source": [
    "rename_labels = {'group': 'group', 'alt': 'alt'}\n",
    "gep.export_expression_tree(best, rename_labels, 'data/regexp_tree.png')"
   ]
  },
  {
   "cell_type": "code",
   "execution_count": 74,
   "metadata": {},
   "outputs": [
    {
     "data": {
      "image/png": "[encoded data removed]",
      "text/plain": [
       "<IPython.core.display.Image object>"
      ]
     },
     "execution_count": 74,
     "metadata": {},
     "output_type": "execute_result"
    }
   ],
   "source": [
    "from IPython.display import Image\n",
    "Image(filename='data/regexp_tree.png') "
   ]
  },
  {
   "cell_type": "code",
   "execution_count": null,
   "metadata": {},
   "outputs": [],
   "source": []
  },
  {
   "cell_type": "code",
   "execution_count": null,
   "metadata": {},
   "outputs": [],
   "source": []
  }
 ],
 "metadata": {
  "kernelspec": {
   "display_name": "Python 3 (ipykernel)",
   "language": "python",
   "name": "python3"
  },
  "language_info": {
   "codemirror_mode": {
    "name": "ipython",
    "version": 3
   },
   "file_extension": ".py",
   "mimetype": "text/x-python",
   "name": "python",
   "nbconvert_exporter": "python",
   "pygments_lexer": "ipython3",
   "version": "3.10.9"
  }
 },
 "nbformat": 4,
 "nbformat_minor": 1
}
