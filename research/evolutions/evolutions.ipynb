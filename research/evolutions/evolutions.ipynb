{
 "cells": [
  {
   "cell_type": "code",
   "execution_count": 14,
   "metadata": {},
   "outputs": [
    {
     "name": "stdout",
     "output_type": "stream",
     "text": [
      "('expr', (('atom', 'i'), ('atom', 'n'), ('atom', 'f'), ('atom', 'o'), ('atom', 'T'), ('atom', 'e'), ('atom', 'c'), ('quantifier', ('atom', 'h'), (('atom', '0'), ('atom', '5'))), ('alt', (('atom', 'b'), ('atom', 'u'), ('atom', 'l'), ('atom', 'g'), ('atom', 'a'), ('atom', 'r'), ('atom', 'i'), ('atom', 'a')), (('atom', '2'), ('atom', '0'), ('atom', '2'), ('atom', '4')))))\n",
      "('expr', (('atom', 'i'), ('atom', 'n'), ('atom', 'f'), ('atom', 'o'), ('atom', 'T'), ('atom', 'e'), ('atom', 'c'), ('atom', 'h'), ('atom', 'C'), ('atom', 'o'), ('atom', 'n'), ('atom', 'f'), ('atom', 'e'), ('atom', 'r'), ('atom', 'e'), ('atom', 'n'), ('atom', 'c'), ('quantifier', ('atom', 'e'), (('atom', '0'), ('atom', '3'))), ('alt', (('atom', 'b'), ('atom', 'u'), ('atom', 'l'), ('atom', 'g'), ('atom', 'a'), ('atom', 'r'), ('atom', 'i'), ('atom', 'a')), (('atom', '2'), ('atom', '0'), ('atom', '2'), ('atom', '4')))))\n",
      "('expr', (('atom', 'i'), ('atom', 'n'), ('atom', 'f'), ('atom', 'o'), ('atom', 'T'), ('atom', 'e'), ('atom', 'c'), ('atom', 'h'), ('atom', 'b'), ('atom', 'u'), ('atom', 'l'), ('atom', 'g'), ('atom', 'a'), ('atom', 'r'), ('atom', 'i'), ('atom', 'a')))\n",
      "('expr', (('atom', 'I'), ('atom', 'n'), ('atom', 'f'), ('atom', 'o'), ('atom', 'T'), ('atom', 'e'), ('atom', 'c'), ('atom', 'h'), ('atom', '2'), ('atom', '0'), ('atom', '2'), ('atom', '4')))\n",
      "\n"
     ]
    }
   ],
   "source": [
    "import os\n",
    "import ast\n",
    "\n",
    "with open('trees', 'r') as trees_file:    \n",
    "    input_data = [x) for x in trees_file.read().split('\\n')]"
   ]
  },
  {
   "cell_type": "code",
   "execution_count": 9,
   "metadata": {},
   "outputs": [
    {
     "data": {
      "text/plain": [
       "\"('expr', (('atom', 'i'), ('atom', 'n'), ('atom', 'f'), ('atom', 'o'), ('atom', 'T'), ('atom', 'e'), ('atom', 'c'), ('quantifier', ('atom', 'h'), (('atom', '0'), ('atom', '5'))), ('alt', (('atom', 'b'), ('atom', 'u'), ('atom', 'l'), ('atom', 'g'), ('atom', 'a'), ('atom', 'r'), ('atom', 'i'), ('atom', 'a')), (('atom', '2'), ('atom', '0'), ('atom', '2'), ('atom', '4')))))\\n('expr', (('atom', 'i'), ('atom', 'n'), ('atom', 'f'), ('atom', 'o'), ('atom', 'T'), ('atom', 'e'), ('atom', 'c'), ('atom', 'h'), ('atom', 'C'), ('atom', 'o'), ('atom', 'n'), ('atom', 'f'), ('atom', 'e'), ('atom', 'r'), ('atom', 'e'), ('atom', 'n'), ('atom', 'c'), ('quantifier', ('atom', 'e'), (('atom', '0'), ('atom', '3'))), ('alt', (('atom', 'b'), ('atom', 'u'), ('atom', 'l'), ('atom', 'g'), ('atom', 'a'), ('atom', 'r'), ('atom', 'i'), ('atom', 'a')), (('atom', '2'), ('atom', '0'), ('atom', '2'), ('atom', '4')))))\\n('expr', (('atom', 'i'), ('atom', 'n'), ('atom', 'f'), ('atom', 'o'), ('atom', 'T'), ('atom', 'e'), ('atom', 'c'), ('atom', 'h'), ('atom', 'b'), ('atom', 'u'), ('atom', 'l'), ('atom', 'g'), ('atom', 'a'), ('atom', 'r'), ('atom', 'i'), ('atom', 'a')))\\n('expr', (('atom', 'I'), ('atom', 'n'), ('atom', 'f'), ('atom', 'o'), ('atom', 'T'), ('atom', 'e'), ('atom', 'c'), ('atom', 'h'), ('atom', '2'), ('atom', '0'), ('atom', '2'), ('atom', '4')))\\n\""
      ]
     },
     "execution_count": 9,
     "metadata": {},
     "output_type": "execute_result"
    }
   ],
   "source": [
    "input_data"
   ]
  },
  {
   "cell_type": "code",
   "execution_count": 12,
   "metadata": {},
   "outputs": [],
   "source": [
    "a = ('expr', (('atom', 'i')))\n",
    "_a = str(a)\n",
    "b = ast.literal_eval(_a)"
   ]
  },
  {
   "cell_type": "code",
   "execution_count": 13,
   "metadata": {},
   "outputs": [
    {
     "data": {
      "text/plain": [
       "('expr', ('atom', 'i'))"
      ]
     },
     "execution_count": 13,
     "metadata": {},
     "output_type": "execute_result"
    }
   ],
   "source": [
    "b"
   ]
  },
  {
   "cell_type": "code",
   "execution_count": null,
   "metadata": {},
   "outputs": [],
   "source": []
  }
 ],
 "metadata": {
  "kernelspec": {
   "display_name": "Python 3 (ipykernel)",
   "language": "python",
   "name": "python3"
  },
  "language_info": {
   "codemirror_mode": {
    "name": "ipython",
    "version": 3
   },
   "file_extension": ".py",
   "mimetype": "text/x-python",
   "name": "python",
   "nbconvert_exporter": "python",
   "pygments_lexer": "ipython3",
   "version": "3.10.9"
  }
 },
 "nbformat": 4,
 "nbformat_minor": 1
}
