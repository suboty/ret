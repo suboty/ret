{
 "cells": [
  {
   "cell_type": "markdown",
   "id": "ae8875d2",
   "metadata": {},
   "source": [
    "# Coevolutionary algorithm\n",
    "with **GEP** and **Differential Evolution**\n",
    "\n",
    "The basic idea of a coevolutionary algorithm is as follows: several populations evolve simultaneously, each of which optimizes a given function and has its own optimization strategy. At the same time, the populations \"fight\" for a resource, which is redistributed in favor of the more effective of them during the operation of the algorithm.\n",
    "\n",
    "## Params of run\n",
    "- **Shared resource $N_s$**. The resource $N_s$ is the number of calculations of the objective function - the product of the population size and the number of iterations. Initially, the resource is assumed to be common and is equally divided between each population.\n",
    "- **Length of the adaptation interval $L_i$**. Setting the adaptation interval value during a certain number of steps (the so-called adaptation interval) each algorithm works separately. The adaptation interval value is determined and set by the researcher. Naturally, its value should not be small (the algorithms will not have time to show themselves) and large (there will be little time for adaptation)\n",
    "- **Amount of penalty for loss $P$**. The penalty is a certain percentage of the population size of the individual algorithm by which we will reduce the population size of the losing algorithms. Naturally, its value should not be too small (the algorithms will not feel the changes) or large (the search procedure for an algorithm with a small population size becomes meaningless).\n",
    "- **Size of the \"social\" card $C_s$**. \"Social card\" is a certain percentage of the population size of an individual algorithm, which is the minimum guaranteed population size. That is, we can reduce the losing population only until it reaches the minimum guaranteed size - \"social card\" (the necessity of this limitation has been proven in practice).\n",
    "\n",
    "## Evaluation of algorithms\n",
    "Since the coevolutionary algorithm is based on competing strategies of algorithms, a fitness function must be introduced for subpopulations. With the help of this function, the best population is determined and given more opportunities for reproduction.\n",
    "\n",
    "$\\Large q_i=\\sum_{k=0}^{L_i-1}\\frac{L_i-k}{k+1} \\cdot b_i(k)$\n",
    "\n",
    "where $k=0$ means the current situation, $k=1$ means previous situation, etc; $i$ means index of population; $b_i(k)=1$ if the $i$-th population at time $k$ contains the best (among all populations) individual.\n",
    "\n",
    "In the future, the obtained assessments of individual algorithms included in the coevolution are the main criterion for assessing the performance of algorithms and are used in the process of resource redistribution.\n",
    "\n",
    "## Efficiency of the coevolutionary algorithm\n",
    "The following indicators were used as comparison criteria: reliability $R$ and speed $V$. Reliability $R$ is the number (in percentage) of successful launches of the algorithm out of the total number of launches. Speed $V$ is estimated by the generation number in which the algorithm finds a solution with a given accuracy."
   ]
  },
  {
   "cell_type": "markdown",
   "id": "66bf6359",
   "metadata": {},
   "source": [
    "### Init params"
   ]
  },
  {
   "cell_type": "code",
   "execution_count": 2,
   "id": "d9b2aeff",
   "metadata": {},
   "outputs": [],
   "source": [
    "# shared resource\n",
    "SHARED_RESOURCE = 5000\n",
    "\n",
    "# length of the adaptation interval\n",
    "ADAPTATION_LENGTH = 25\n",
    "\n",
    "# amount of penalty for loss\n",
    "PENALTY = 0.05 # means 5%\n",
    "\n",
    "# size of the \"social\" card\n",
    "SOCIAL_SIZE = 0.1 # means 10%\n",
    "\n",
    "# number of population\n",
    "POPULATION_NUMBER = 100\n",
    "\n",
    "# size of population\n",
    "POPULATION_SIZE = 100"
   ]
  },
  {
   "cell_type": "markdown",
   "id": "a789c2b0",
   "metadata": {},
   "source": [
    "### GEP class"
   ]
  },
  {
   "cell_type": "code",
   "execution_count": null,
   "id": "135022ed",
   "metadata": {},
   "outputs": [],
   "source": []
  },
  {
   "cell_type": "markdown",
   "id": "8910a1d3",
   "metadata": {},
   "source": [
    "### DE class"
   ]
  },
  {
   "cell_type": "code",
   "execution_count": null,
   "id": "1273e4c9",
   "metadata": {},
   "outputs": [],
   "source": []
  }
 ],
 "metadata": {
  "kernelspec": {
   "display_name": "Python 3 (ipykernel)",
   "language": "python",
   "name": "python3"
  },
  "language_info": {
   "codemirror_mode": {
    "name": "ipython",
    "version": 3
   },
   "file_extension": ".py",
   "mimetype": "text/x-python",
   "name": "python",
   "nbconvert_exporter": "python",
   "pygments_lexer": "ipython3",
   "version": "3.10.9"
  }
 },
 "nbformat": 4,
 "nbformat_minor": 5
}
